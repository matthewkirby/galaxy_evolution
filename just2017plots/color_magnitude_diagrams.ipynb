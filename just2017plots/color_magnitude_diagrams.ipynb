{
 "cells": [
  {
   "cell_type": "code",
   "execution_count": 162,
   "metadata": {},
   "outputs": [],
   "source": [
    "%matplotlib notebook\n",
    "import numpy as np\n",
    "import matplotlib\n",
    "from astropy.table import Table, vstack, join\n",
    "import matplotlib.pyplot as plt\n",
    "import matplotlib.ticker as ticker\n",
    "import plotting_resources as res\n",
    "import matplotlib.gridspec as gs\n",
    "plt.rc('text', usetex=True)\n",
    "plt.ioff()\n",
    "\n",
    "rauto_cut = 22.9\n",
    "frauto_cut = 10**((rauto_cut-23.9)/(-2.5))"
   ]
  },
  {
   "cell_type": "code",
   "execution_count": 156,
   "metadata": {},
   "outputs": [],
   "source": [
    "member_args = {'ms': 8, 'markeredgewidth':0.5, 'markeredgecolor': 'k'}\n",
    "field_args = {'ms':2}"
   ]
  },
  {
   "cell_type": "markdown",
   "metadata": {},
   "source": [
    "# Load the catalogs and merge U-B info"
   ]
  },
  {
   "cell_type": "code",
   "execution_count": 157,
   "metadata": {},
   "outputs": [],
   "source": [
    "slitcat = Table().read('../catalogs/personal_catalogs/slits_phot_zs_cutonslitdist_rcl.csv', format='csv')\n",
    "ldpcat = slitcat[np.where((slitcat['Rauto'] < rauto_cut) & \n",
    "                          (slitcat['Q'] >= 4) & \n",
    "                          (slitcat['slit_distance'] < 1.0))]\n",
    "cltable = res.load_clusters()\n",
    "rfmags = Table().read('../catalogs/eazy_colors/ediscs_zldp_zfors_EAzY_outputs.csv', format='csv')\n",
    "rfmags.rename_column('id', 'ids')\n",
    "\n",
    "fulltable = join(ldpcat, rfmags['ids','MAG_AB_rfB', 'MAG_AB_rfU'], keys='ids', join_type='left')\n",
    "fulltable['UB_color'] = fulltable['MAG_AB_rfU'] - fulltable['MAG_AB_rfB']"
   ]
  },
  {
   "cell_type": "markdown",
   "metadata": {},
   "source": [
    "# Build the combined field sample"
   ]
  },
  {
   "cell_type": "code",
   "execution_count": 158,
   "metadata": {},
   "outputs": [],
   "source": [
    "# Chose clusters to use\n",
    "cltable.sort('z')\n",
    "fieldcls = cltable[0:1]\n",
    "\n",
    "for cl in cltable:\n",
    "    if cl['z'] > fieldcls['z'][-1] + 0.04:\n",
    "        fieldcls.add_row(cl)"
   ]
  },
  {
   "cell_type": "code",
   "execution_count": 159,
   "metadata": {},
   "outputs": [],
   "source": [
    "# Build the catalogs\n",
    "fieldsample = Table()\n",
    "for cl in fieldcls:\n",
    "    subtable = fulltable[np.where((fulltable['field'] == cl['tablename']) &\n",
    "                                  (abs(fulltable['zLDP']-cl['z']) > 0.02))]\n",
    "    fieldsample = vstack([fieldsample, subtable])"
   ]
  },
  {
   "cell_type": "markdown",
   "metadata": {},
   "source": [
    "# Make the plots"
   ]
  },
  {
   "cell_type": "code",
   "execution_count": 160,
   "metadata": {},
   "outputs": [],
   "source": [
    "def turn_off_tick_labels(ax_obj, ax):\n",
    "    if ax == 'x':\n",
    "        ax_obj.set_xticklabels([])\n",
    "    elif ax == 'y':\n",
    "        ax_obj.set_yticklabels([])"
   ]
  },
  {
   "cell_type": "code",
   "execution_count": 163,
   "metadata": {},
   "outputs": [],
   "source": [
    "fig = plt.figure(figsize=(8.5, 11))\n",
    "outer = gs.GridSpec(7, 3, wspace=0.05, hspace=0.1)\n",
    "\n",
    "fig.text(0.5, 0.06, r'$M_B$', ha='center')\n",
    "fig.text(0.06, 0.5, r'$U-B$', va='center', rotation='vertical')\n",
    "\n",
    "for i in range(21):\n",
    "    inner = gs.GridSpecFromSubplotSpec(1, 2, subplot_spec=outer[i], wspace=0)\n",
    "    a1 = plt.subplot(inner[0]) \n",
    "    a2 = plt.subplot(inner[1])\n",
    "        \n",
    "    cl = cltable[i]\n",
    "    subcat = fulltable[np.where((fulltable['field'] == cl['tablename']) &\n",
    "                                (abs(fulltable['zLDP']-cl['z']) < 0.02))]\n",
    "    subfield = fieldsample[np.where(abs(fieldsample['zLDP']-cl['z']) < 0.02)]\n",
    "    red, blue = res.add_red_blue(subcat, cl)\n",
    "    redf, bluef = res.add_red_blue(subfield, cl)\n",
    "    \n",
    "    # Plot left panel\n",
    "    a1.plot(red['MAG_AB_rfB'], red['UB_color'], '.r', **member_args)\n",
    "    a1.plot(blue['MAG_AB_rfB'], blue['UB_color'], '.b', **member_args)\n",
    "    a1.axhline(cl['cmr'], color='k', lw=0.5, ls='--')\n",
    "    \n",
    "    # Format left panel\n",
    "    a1.set_ylim(0, 2.3)\n",
    "    a1.set_xlim(-23, -18)\n",
    "    a1.tick_params(direction=\"in\")\n",
    "    a1.set_yticks([0.0, 0.5, 1.0, 1.5, 2.0])\n",
    "    a1.set_xticks([-20, -22])\n",
    "    a1.text(-22.5, 2.0, r'{}'.format(cl['papername']), usetex=True)\n",
    "    \n",
    "    # Plot the right panel\n",
    "    a2.plot(redf['MAG_AB_rfB'], redf['UB_color'], '.r', **field_args)\n",
    "    a2.plot(bluef['MAG_AB_rfB'], bluef['UB_color'], '.b', **field_args)\n",
    "    a2.axhline(cl['cmr'], color='k', lw=0.5, ls='--')\n",
    "    \n",
    "    # Format the right panel\n",
    "    a2.set_ylim(0, 2.3)\n",
    "    a2.set_xlim(-23, -18)\n",
    "    a2.set_yticklabels([])\n",
    "    a2.tick_params(direction=\"in\")\n",
    "    a2.set_xticks([-20, -22])\n",
    "    a2.text(-22.5, 2.0, r'$z={}$'.format(cl['z']), usetex=True)\n",
    "    \n",
    "    # Turn off the appropriate tick labels\n",
    "    if i not in [18, 19, 20]:\n",
    "        turn_off_tick_labels(a1, 'x')\n",
    "        turn_off_tick_labels(a2, 'x')\n",
    "    if i not in [0, 3, 6, 9, 12, 15, 18]:\n",
    "        turn_off_tick_labels(a1, 'y')\n",
    "        turn_off_tick_labels(a2, 'y')"
   ]
  },
  {
   "cell_type": "code",
   "execution_count": 164,
   "metadata": {},
   "outputs": [],
   "source": [
    "plt.savefig('plots/big_cmr.eps', dpi=800)"
   ]
  },
  {
   "cell_type": "code",
   "execution_count": null,
   "metadata": {},
   "outputs": [],
   "source": []
  }
 ],
 "metadata": {
  "kernelspec": {
   "display_name": "Python 3",
   "language": "python",
   "name": "python3"
  },
  "language_info": {
   "codemirror_mode": {
    "name": "ipython",
    "version": 3
   },
   "file_extension": ".py",
   "mimetype": "text/x-python",
   "name": "python",
   "nbconvert_exporter": "python",
   "pygments_lexer": "ipython3",
   "version": "3.6.4"
  }
 },
 "nbformat": 4,
 "nbformat_minor": 2
}
