{
 "cells": [
  {
   "cell_type": "code",
   "execution_count": 1,
   "metadata": {},
   "outputs": [],
   "source": [
    "import numpy as np\n",
    "from astropy.table import Table\n",
    "from astropy.table import setdiff"
   ]
  },
  {
   "cell_type": "code",
   "execution_count": 2,
   "metadata": {},
   "outputs": [],
   "source": [
    "def flux2mag(f):\n",
    "    return -2.5*np.log10(f) + 23.9"
   ]
  },
  {
   "cell_type": "code",
   "execution_count": 3,
   "metadata": {},
   "outputs": [
    {
     "name": "stdout",
     "output_type": "stream",
     "text": [
      "['field', 'ids', 'ra', 'dec', 'x', 'y', 'B1', 'V1', 'R1', 'I1', 'z1', 'B2', 'V2', 'R2', 'I2', 'z2', 'B3', 'V3', 'R3', 'I3', 'z3', 'Bauto', 'Vauto', 'Rauto', 'Iauto', 'zauto', 'zLDP5_7', 'Q5_7', 'zphot', 'zphot_errUP', 'zphot_errLO', 'class_StarR', 'zLDP', 'zLDPerr', 'Q', 'zLDP_good', 'slit_distance', 'zSpec', 'zSpec_Q']\n"
     ]
    }
   ],
   "source": [
    "ldp = Table().read('../../catalogs/personal_catalogs/slits_phot_zs.csv', format='csv')\n",
    "print(ldp.colnames)"
   ]
  },
  {
   "cell_type": "code",
   "execution_count": 4,
   "metadata": {},
   "outputs": [
    {
     "name": "stdout",
     "output_type": "stream",
     "text": [
      "{'CL1018', 'cl1216', 'CL1040', 'cl1138', 'cl1420', 'cl1301', 'cl1103', 'cl1227', 'cl1059', 'cl1411', 'CL1054-11', 'CL1037', 'cl1354', 'cl1232', 'CL1054-12', 'cl1353'}\n"
     ]
    }
   ],
   "source": [
    "print(set(ldp['field']))"
   ]
  },
  {
   "cell_type": "markdown",
   "metadata": {},
   "source": [
    "# Filter to one cluster\n",
    "$N_{LDP}$ is the number of objects with the magnitude cut and $Q\\geq2$\n",
    "\n",
    "$N_{Q=4}$ is the number of obejcts with magnitude cut and $Q=4$\n",
    "\n",
    "$N_{memb}$ is the number of objects $Q=4$ objects within $\\Delta z\\leq0.02$"
   ]
  },
  {
   "cell_type": "code",
   "execution_count": 5,
   "metadata": {},
   "outputs": [
    {
     "name": "stdout",
     "output_type": "stream",
     "text": [
      "Ntargets=1645\n"
     ]
    }
   ],
   "source": [
    "cl1018 = ldp[np.where(ldp['field'] == 'CL1018')]\n",
    "cl1018 = cl1018[np.where(cl1018['Rauto'] <= 22.9)]\n",
    "cl1018['dz'] = abs(cl1018['zLDP']-0.4734)\n",
    "print('Ntargets={}'.format(len(cl1018)))"
   ]
  },
  {
   "cell_type": "code",
   "execution_count": 6,
   "metadata": {},
   "outputs": [
    {
     "name": "stdout",
     "output_type": "stream",
     "text": [
      "NLDP=1424\n",
      "NQ4=785\n"
     ]
    }
   ],
   "source": [
    "cl1018Q2 = cl1018[np.where(cl1018['Q'] >= 2)]\n",
    "cl1018Q4 = cl1018[np.where(cl1018['Q'] >= 4)]\n",
    "print('NLDP={}'.format(len(cl1018Q2)))\n",
    "print('NQ4={}'.format(len(cl1018Q4)))"
   ]
  },
  {
   "cell_type": "code",
   "execution_count": 7,
   "metadata": {},
   "outputs": [
    {
     "name": "stdout",
     "output_type": "stream",
     "text": [
      "Nmemb=87\n"
     ]
    }
   ],
   "source": [
    "cl1018_memb = cl1018Q4[np.where(cl1018Q4['dz'] <= 0.02)]\n",
    "print('Nmemb={}'.format(len(cl1018_memb)))"
   ]
  },
  {
   "cell_type": "markdown",
   "metadata": {},
   "source": [
    "# Find the number of photometry objects in the cluster\n",
    "For cl1018, this should be 11868"
   ]
  },
  {
   "cell_type": "code",
   "execution_count": 37,
   "metadata": {},
   "outputs": [
    {
     "name": "stdout",
     "output_type": "stream",
     "text": [
      "12681 4396\n"
     ]
    },
    {
     "name": "stderr",
     "output_type": "stream",
     "text": [
      "/Users/matthewkirby/anaconda2/envs/py36/lib/python3.6/site-packages/ipykernel_launcher.py:2: RuntimeWarning: invalid value encountered in log10\n",
      "  \n",
      "/Users/matthewkirby/anaconda2/envs/py36/lib/python3.6/site-packages/astropy/table/column.py:965: RuntimeWarning: invalid value encountered in less_equal\n",
      "  return getattr(self.data, op)(other)\n"
     ]
    }
   ],
   "source": [
    "phot = Table().read('../../catalogs/personal_catalogs/megacat.fits').filled(99)\n",
    "phot1018 = phot[np.where(phot['field']=='CL1018')]\n",
    "phot1018['Rauto'] = flux2mag(phot1018['fRauto'])\n",
    "phot1018cut = phot1018[np.where(phot1018['Rauto'] <= 22.6)]\n",
    "print(len(phot1018), len(phot1018cut))"
   ]
  },
  {
   "cell_type": "code",
   "execution_count": 39,
   "metadata": {},
   "outputs": [
    {
     "name": "stdout",
     "output_type": "stream",
     "text": [
      "12681 4396\n"
     ]
    },
    {
     "name": "stderr",
     "output_type": "stream",
     "text": [
      "/Users/matthewkirby/anaconda2/envs/py36/lib/python3.6/site-packages/ipykernel_launcher.py:2: RuntimeWarning: invalid value encountered in log10\n",
      "  \n",
      "/Users/matthewkirby/anaconda2/envs/py36/lib/python3.6/site-packages/astropy/table/column.py:965: RuntimeWarning: invalid value encountered in less_equal\n",
      "  return getattr(self.data, op)(other)\n"
     ]
    }
   ],
   "source": [
    "phot = Table().read('../../catalogs/ediscs_v7.0/cl1018_catalog_v7.0.fits')\n",
    "phot['Rauto'] = flux2mag(phot['fRauto'])\n",
    "photcut = phot[np.where(phot['Rauto'] <= 22.6)]\n",
    "print(len(phot), len(photcut))"
   ]
  },
  {
   "cell_type": "code",
   "execution_count": 41,
   "metadata": {},
   "outputs": [
    {
     "name": "stdout",
     "output_type": "stream",
     "text": [
      "['field', 'ids', 'ra', 'dec', 'x', 'y', 'ebv', 'fwhmR', 'fB1', 'fB1err', 'fB2', 'fB2err', 'fB3', 'fB3err', 'fBiso', 'fBisoerr', 'fBauto', 'fBautoerr', 'fV1', 'fV1err', 'fV2', 'fV2err', 'fV3', 'fV3err', 'fViso', 'fVisoerr', 'fVauto', 'fVautoerr', 'fR1', 'fR1err', 'fR2', 'fR2err', 'fR3', 'fR3err', 'fRiso', 'fRisoerr', 'fRauto', 'fRautoerr', 'fI1', 'fI1err', 'fI2', 'fI2err', 'fI3', 'fI3err', 'fIiso', 'fIisoerr', 'fIauto', 'fIautoerr', 'fz1', 'fz1err', 'fz2', 'fz2err', 'fz3', 'fz3err', 'fziso', 'fzisoerr', 'fzauto', 'fzautoerr', 'fK1', 'fK1err', 'fK2', 'fK2err', 'fK3', 'fK3err', 'fKiso', 'fKisoerr', 'fKauto', 'fKautoerr', 'zLDP5_7', 'Q5_7', 'zphot', 'zphot_errUP', 'zphot_errLO', 'class_StarR', 'iso_area', 'major_ax', 'minor_ax', 'theta', 'sexflagB', 'sexflagV', 'sexflagR', 'sexflagI', 'sexflagz', 'sexflagK', 'wK', 'Rauto']\n"
     ]
    }
   ],
   "source": [
    "print(phot.colnames)"
   ]
  },
  {
   "cell_type": "code",
   "execution_count": null,
   "metadata": {
    "collapsed": true
   },
   "outputs": [],
   "source": []
  }
 ],
 "metadata": {
  "kernelspec": {
   "display_name": "Python 3",
   "language": "python",
   "name": "python3"
  },
  "language_info": {
   "codemirror_mode": {
    "name": "ipython",
    "version": 3
   },
   "file_extension": ".py",
   "mimetype": "text/x-python",
   "name": "python",
   "nbconvert_exporter": "python",
   "pygments_lexer": "ipython3",
   "version": "3.6.4"
  }
 },
 "nbformat": 4,
 "nbformat_minor": 1
}
