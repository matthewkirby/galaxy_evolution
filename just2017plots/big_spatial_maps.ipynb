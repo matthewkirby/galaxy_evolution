{
 "cells": [
  {
   "cell_type": "code",
   "execution_count": 12,
   "metadata": {},
   "outputs": [],
   "source": [
    "%matplotlib notebook\n",
    "from astropy.table import Table, vstack, Column\n",
    "from astropy import units as u\n",
    "from astropy.coordinates import SkyCoord\n",
    "import matplotlib.pyplot as plt\n",
    "import numpy as np\n",
    "import plotting_resources as res\n",
    "plt.ioff()"
   ]
  },
  {
   "cell_type": "code",
   "execution_count": 2,
   "metadata": {},
   "outputs": [],
   "source": [
    "slitcat = Table().read('../catalogs/personal_catalogs/slits_phot_zs_cutonslitdist_rcl.csv', format='csv')\n",
    "ldpcat = slitcat[np.where((slitcat['Rauto'] < 22.9) & \n",
    "                          (slitcat['Q'] >= 4) & \n",
    "                          (slitcat['slit_distance'] < 1.0))]\n",
    "ldpcat = res.add_ub_color(ldpcat)"
   ]
  },
  {
   "cell_type": "code",
   "execution_count": 3,
   "metadata": {},
   "outputs": [
    {
     "name": "stdout",
     "output_type": "stream",
     "text": [
      "['field', 'ids', 'ra', 'dec', 'x', 'y', 'B1', 'V1', 'R1', 'I1', 'z1', 'B2', 'V2', 'R2', 'I2', 'z2', 'B3', 'V3', 'R3', 'I3', 'z3', 'Bauto', 'Vauto', 'Rauto', 'Iauto', 'zauto', 'zLDP5_7', 'Q5_7', 'zphot', 'zphot_errUP', 'zphot_errLO', 'class_StarR', 'zLDP', 'zLDPerr', 'Q', 'zLDP_good', 'slit_distance', 'zSpec', 'zSpec_Q', 'spec_type', 'theta_cl_radian', 'd_cl_mpc', 'MAG_AB_rfB', 'MAG_AB_rfU', 'UB_color']\n"
     ]
    }
   ],
   "source": [
    "print(ldpcat.colnames)"
   ]
  },
  {
   "cell_type": "markdown",
   "metadata": {},
   "source": [
    "## Since this plot is huge, split clusters into two sets, one of 12 and one of 9"
   ]
  },
  {
   "cell_type": "code",
   "execution_count": 4,
   "metadata": {},
   "outputs": [],
   "source": [
    "cllist = res.load_clusters()\n",
    "cllist1 = cllist[:12]\n",
    "cllist2 = cllist[12:]"
   ]
  },
  {
   "cell_type": "markdown",
   "metadata": {},
   "source": [
    "## Set up canvas 1"
   ]
  },
  {
   "cell_type": "code",
   "execution_count": 21,
   "metadata": {},
   "outputs": [],
   "source": [
    "f, ((a1, a2, a3), (a4, a5, a6), (a7, a8, a9), (a10, a11, a12)) = plt.subplots(4,3, figsize=(8.5,11))\n",
    "for i in range(len(cllist1)):\n",
    "    cl = cllist1[i]\n",
    "    \n",
    "    subcat = ldpcat[np.where(ldpcat['field'] == cl['tablename'])]\n",
    "    subcat['dx'] = (cl['ra'] - subcat['ra'])*(np.pi/180.)*cl['D_A']\n",
    "    subcat['dy'] = (cl['dec'] - subcat['dec'])*(np.pi/180.)*cl['D_A']\n",
    "    members = subcat[np.where(abs(subcat['zLDP']-cl['z']) < 0.02)]\n",
    "    red_members, blue_members = res.add_red_blue(members, cl)\n",
    "    \n",
    "    # Make the plot\n",
    "    ax = eval('a'+str(i+1))\n",
    "    ax.plot(subcat['dx'], subcat['dy'], '.k', ms=0.75)\n",
    "    ax.plot(blue_members['dx'], blue_members['dy'], '.b', ms=4)\n",
    "    ax.plot(red_members['dx'], red_members['dy'], '.r', ms=4)\n",
    "    ax.add_artist(plt.Circle((0, 0), radius=cl['r200'], ec='k', fc='none'));\n",
    "    ax.add_artist(plt.Circle((0, 0), radius =cl['rinfall'], ec='k', fc='none'));\n",
    "    \n",
    "    # Formatting\n",
    "    ax.set_title(cl['papername'])\n",
    "    ax.set_aspect('equal', adjustable=\"datalim\")\n",
    "    \n",
    "a1.set_ylabel('y (Mpc)');\n",
    "a4.set_ylabel('y (Mpc)');\n",
    "a7.set_ylabel('y (Mpc)');\n",
    "a10.set_ylabel('y (Mpc)');\n",
    "a10.set_xlabel('x (Mpc)');\n",
    "a11.set_xlabel('x (Mpc)');\n",
    "a12.set_xlabel('x (Mpc)');"
   ]
  },
  {
   "cell_type": "code",
   "execution_count": 22,
   "metadata": {
    "scrolled": false
   },
   "outputs": [],
   "source": [
    "plt.tight_layout()\n",
    "plt.savefig('plots/membermap1.eps', dpi=800)"
   ]
  },
  {
   "cell_type": "markdown",
   "metadata": {},
   "source": [
    "## Canvas 2"
   ]
  },
  {
   "cell_type": "code",
   "execution_count": 23,
   "metadata": {},
   "outputs": [],
   "source": [
    "f, ((a1, a2, a3), (a4, a5, a6), (a7, a8, a9)) = plt.subplots(3,3, figsize=(8.5,8.25))\n",
    "for i in range(len(cllist2)):\n",
    "    cl = cllist2[i]\n",
    "    \n",
    "    subcat = ldpcat[np.where(ldpcat['field'] == cl['tablename'])]\n",
    "    subcat['dx'] = (cl['ra'] - subcat['ra'])*(np.pi/180.)*cl['D_A']\n",
    "    subcat['dy'] = (cl['dec'] - subcat['dec'])*(np.pi/180.)*cl['D_A']\n",
    "    members = subcat[np.where(abs(subcat['zLDP']-cl['z']) < 0.02)]\n",
    "    red_members, blue_members = res.add_red_blue(members, cl)\n",
    "        \n",
    "    # Make the plot\n",
    "    ax = eval('a'+str(i+1))\n",
    "    ax.plot(subcat['dx'], subcat['dy'], '.k', ms=0.75)\n",
    "    ax.plot(blue_members['dx'], blue_members['dy'], '.b', ms=4)\n",
    "    ax.plot(red_members['dx'], red_members['dy'], '.r', ms=4)\n",
    "    ax.add_artist(plt.Circle((0, 0), radius=cl['r200'], ec='k', fc='none'));\n",
    "    ax.add_artist(plt.Circle((0, 0), radius =cl['rinfall'], ec='k', fc='none'));\n",
    "    \n",
    "    # Formatting\n",
    "    ax.set_title(cl['papername'])\n",
    "    ax.set_aspect('equal', adjustable=\"datalim\")\n",
    "    \n",
    "a1.set_ylabel('y (Mpc)');\n",
    "a4.set_ylabel('y (Mpc)');\n",
    "a7.set_ylabel('y (Mpc)');\n",
    "a7.set_xlabel('x (Mpc)');\n",
    "a8.set_xlabel('x (Mpc)');\n",
    "a9.set_xlabel('x (Mpc)');"
   ]
  },
  {
   "cell_type": "code",
   "execution_count": 24,
   "metadata": {},
   "outputs": [],
   "source": [
    "plt.tight_layout()\n",
    "#plt.show()\n",
    "plt.savefig('plots/membermap2.eps', dpi=800)"
   ]
  },
  {
   "cell_type": "code",
   "execution_count": null,
   "metadata": {},
   "outputs": [],
   "source": []
  }
 ],
 "metadata": {
  "kernelspec": {
   "display_name": "Python 3",
   "language": "python",
   "name": "python3"
  },
  "language_info": {
   "codemirror_mode": {
    "name": "ipython",
    "version": 3
   },
   "file_extension": ".py",
   "mimetype": "text/x-python",
   "name": "python",
   "nbconvert_exporter": "python",
   "pygments_lexer": "ipython3",
   "version": "3.6.4"
  }
 },
 "nbformat": 4,
 "nbformat_minor": 2
}
