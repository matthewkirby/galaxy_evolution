{
 "cells": [
  {
   "cell_type": "code",
   "execution_count": 137,
   "metadata": {},
   "outputs": [],
   "source": [
    "import numpy as np\n",
    "from astropy.table import Table, setdiff, join\n",
    "import matplotlib.pyplot as plt\n",
    "from astropy.coordinates import SkyCoord\n",
    "from astropy import units as u\n"
   ]
  },
  {
   "cell_type": "markdown",
   "metadata": {},
   "source": [
    "# Load cl1018 in v7.0"
   ]
  },
  {
   "cell_type": "code",
   "execution_count": 138,
   "metadata": {},
   "outputs": [
    {
     "name": "stderr",
     "output_type": "stream",
     "text": [
      "/Users/matthewkirby/anaconda2/envs/py36/lib/python3.6/site-packages/ipykernel_launcher.py:2: RuntimeWarning: invalid value encountered in log10\n",
      "  \n"
     ]
    }
   ],
   "source": [
    "v7 = Table().read('../catalogs/ediscs_v7.0/cl1018_catalog_v7.0.fits')\n",
    "v7['Rauto'] = 23.9 - 2.5*np.log10(v7['fRauto'])\n",
    "v7 = v7.filled(99)"
   ]
  },
  {
   "cell_type": "markdown",
   "metadata": {},
   "source": [
    "# Load cl1018 in v5.6"
   ]
  },
  {
   "cell_type": "code",
   "execution_count": 139,
   "metadata": {},
   "outputs": [],
   "source": [
    "v5all = Table().read('../oldcode/galactic_evolution/catalog/megacat.v5.6.dat', format='ascii.fast_no_header')"
   ]
  },
  {
   "cell_type": "code",
   "execution_count": 140,
   "metadata": {},
   "outputs": [],
   "source": [
    "v5all.rename_column('col1', 'field')\n",
    "v5all.rename_column('col2', 'ids')\n",
    "v5all.rename_column('col3', 'ra')\n",
    "v5all.rename_column('col4', 'dec')\n",
    "v5all.rename_column('col19', 'Rauto')\n",
    "v5all.rename_column('col23', 'Q')"
   ]
  },
  {
   "cell_type": "code",
   "execution_count": 141,
   "metadata": {},
   "outputs": [],
   "source": [
    "v5 = v5all[np.where(v5all['field']=='cl1018-12')]"
   ]
  },
  {
   "cell_type": "code",
   "execution_count": 142,
   "metadata": {},
   "outputs": [],
   "source": [
    "#for i in range(len(v5)):\n",
    "#    if v5['ids'][i][3] == '_':\n",
    "#        v5['ids'][i] = v5['ids'][i][:8]+'-'+v5['ids'][i][9:12]+str(int(v5['ids'][i][12:]))\n",
    "#    elif v5['ids'][i][4] == '_':\n",
    "#        v5['ids'][i] = 'WFI_1018-12_'+str(int(v5['ids'][i][13:]))"
   ]
  },
  {
   "cell_type": "code",
   "execution_count": 143,
   "metadata": {},
   "outputs": [
    {
     "name": "stdout",
     "output_type": "stream",
     "text": [
      "30333 729\n"
     ]
    }
   ],
   "source": [
    "print(len(v5), len(v5[np.where((v5['Rauto'] < 22.6) & (v5['Q'] == 4))]))"
   ]
  },
  {
   "cell_type": "markdown",
   "metadata": {},
   "source": [
    "# Find the rows that aren't in v7.0"
   ]
  },
  {
   "cell_type": "code",
   "execution_count": 144,
   "metadata": {},
   "outputs": [
    {
     "data": {
      "image/png": "[encoded data removed]",
      "text/plain": [
       "<Figure size 432x288 with 1 Axes>"
      ]
     },
     "metadata": {},
     "output_type": "display_data"
    }
   ],
   "source": [
    "hist_edges = np.arange(18., 24.1, 0.25)\n",
    "plt.hist(v5['Rauto'], bins=hist_edges, histtype='step', label='v5.7')\n",
    "plt.hist(v7['Rauto'], bins=hist_edges, range=(18, 24.1), histtype='step', label='v7.0')\n",
    "plt.hist(onlyv5['Rauto'], bins=hist_edges, histtype='step', label='MIA')\n",
    "\n",
    "plt.xlabel(r'$R_{auto}$ (v5.7)')\n",
    "plt.title('CL1018')\n",
    "plt.legend(loc=2)\n",
    "plt.savefig('plots/v5v7comparison.png', dpi=300)"
   ]
  },
  {
   "cell_type": "markdown",
   "metadata": {},
   "source": [
    "# Look at how photometry changed for objects in both versions"
   ]
  },
  {
   "cell_type": "code",
   "execution_count": 145,
   "metadata": {},
   "outputs": [],
   "source": [
    "v5coords = SkyCoord(ra=v5['ra']*u.degree, dec=v5['dec']*u.degree)\n",
    "v7coords = SkyCoord(ra=v7['ra']*u.degree, dec=v7['dec']*u.degree)"
   ]
  },
  {
   "cell_type": "code",
   "execution_count": 146,
   "metadata": {},
   "outputs": [],
   "source": [
    "# the nth element of idx is in the index in v7coords that best matches the nth element in v5coords\n",
    "idx, d2d, d3d = v5coords.match_to_catalog_sky(v7coords)\n",
    "# Only keep when slit-obj sep is less than 1 arcsecond\n",
    "#close_idx = idx[np.where(d2d < 1.*u.arcsecond)[0]]"
   ]
  },
  {
   "cell_type": "code",
   "execution_count": 147,
   "metadata": {},
   "outputs": [],
   "source": [
    "v5['Rauto_v7'] = v7['Rauto'][idx]\n",
    "v5['v5v7_2dsep'] = d2d.arcsecond\n",
    "v5['ra7'] = v7['ra'][idx]\n",
    "v5['dec7'] = v7['dec'][idx]"
   ]
  },
  {
   "cell_type": "code",
   "execution_count": 148,
   "metadata": {},
   "outputs": [],
   "source": [
    "matched = v5[np.where(v5['v5v7_2dsep'] <= 1.)]\n",
    "onlyold = v5[np.where(v5['v5v7_2dsep'] > 1.0)]"
   ]
  },
  {
   "cell_type": "code",
   "execution_count": 149,
   "metadata": {},
   "outputs": [
    {
     "name": "stdout",
     "output_type": "stream",
     "text": [
      "12464 30333 17869 12681\n"
     ]
    }
   ],
   "source": [
    "print(len(matched), len(v5), len(onlyold), len(v7))"
   ]
  },
  {
   "cell_type": "code",
   "execution_count": 150,
   "metadata": {},
   "outputs": [
    {
     "data": {
      "image/png": "[encoded data removed]",
      "text/plain": [
       "<Figure size 432x288 with 1 Axes>"
      ]
     },
     "metadata": {},
     "output_type": "display_data"
    }
   ],
   "source": [
    "plt.plot(matched['Rauto'], matched['Rauto_v7'], '.k', ms=0.4)\n",
    "plt.axvline(22.6)\n",
    "plt.axhline(22.6)\n",
    "\n",
    "pts = np.linspace(0, 30, 30)\n",
    "plt.plot(pts, pts, '-g')\n",
    "\n",
    "plt.xlim(0, 30)\n",
    "plt.ylim(0, 30)\n",
    "\n",
    "plt.xlabel(r'$R_{auto}$ (v5.6)')\n",
    "plt.ylabel(r'$R_{auto}$ (v7.0)')\n",
    "\n",
    "plt.savefig('plots/rauto_comparison.png', dpi=300)"
   ]
  },
  {
   "cell_type": "code",
   "execution_count": 151,
   "metadata": {},
   "outputs": [
    {
     "data": {
      "text/plain": [
       "[<matplotlib.lines.Line2D at 0x1526c1a128>]"
      ]
     },
     "execution_count": 151,
     "metadata": {},
     "output_type": "execute_result"
    },
    {
     "data": {
      "image/png": "[encoded data removed]",
      "text/plain": [
       "<Figure size 432x288 with 1 Axes>"
      ]
     },
     "metadata": {},
     "output_type": "display_data"
    }
   ],
   "source": [
    "plt.plot(matched['ra'], matched['ra7'], '.k', ms=0.4)"
   ]
  },
  {
   "cell_type": "code",
   "execution_count": 152,
   "metadata": {},
   "outputs": [
    {
     "data": {
      "text/plain": [
       "[<matplotlib.lines.Line2D at 0x1526d7bd68>]"
      ]
     },
     "execution_count": 152,
     "metadata": {},
     "output_type": "execute_result"
    },
    {
     "data": {
      "image/png": "[encoded data removed]",
      "text/plain": [
       "<Figure size 432x288 with 1 Axes>"
      ]
     },
     "metadata": {},
     "output_type": "display_data"
    }
   ],
   "source": [
    "plt.plot(matched['dec'], matched['dec7'], '.k', ms=0.4)"
   ]
  },
  {
   "cell_type": "markdown",
   "metadata": {},
   "source": [
    "# What were the mags of the obj that moved"
   ]
  },
  {
   "cell_type": "code",
   "execution_count": 153,
   "metadata": {},
   "outputs": [
    {
     "data": {
      "image/png": "[encoded data removed]",
      "text/plain": [
       "<Figure size 432x288 with 1 Axes>"
      ]
     },
     "metadata": {},
     "output_type": "display_data"
    }
   ],
   "source": [
    "hist_edges = np.arange(18., 24.1, 0.25)\n",
    "plt.hist(v5['Rauto'], bins=hist_edges, histtype='step', label='v5.6')\n",
    "plt.hist(matched['Rauto'], bins=hist_edges, range=(18, 24.1), histtype='step', label='v7.0')\n",
    "plt.hist(onlyold['Rauto'], bins=hist_edges, histtype='step', label='MIA')\n",
    "\n",
    "plt.xlabel(r'$R_{auto}$ (v5.7)')\n",
    "plt.title('CL1018')\n",
    "plt.legend(loc=2)\n",
    "plt.savefig('plots/v5v7comparison.png', dpi=300)"
   ]
  },
  {
   "cell_type": "markdown",
   "metadata": {},
   "source": [
    "# Make a more useful plot of Rauto v Rauto"
   ]
  },
  {
   "cell_type": "code",
   "execution_count": 154,
   "metadata": {},
   "outputs": [],
   "source": [
    "matched['dRauto'] = matched['Rauto'] - matched['Rauto_v7']"
   ]
  },
  {
   "cell_type": "code",
   "execution_count": 155,
   "metadata": {},
   "outputs": [
    {
     "data": {
      "image/png": "[encoded data removed]",
      "text/plain": [
       "<Figure size 432x288 with 1 Axes>"
      ]
     },
     "metadata": {},
     "output_type": "display_data"
    }
   ],
   "source": [
    "plt.plot(matched['Rauto'], matched['dRauto'], '.k')\n",
    "plt.xlabel('Rauto (v5.6)')\n",
    "plt.ylabel('Rauto (5.6) - Rauto (7.0)')\n",
    "plt.axvline(22.6, color='g')\n",
    "plt.axhline(0.0, linestyle='--', linewidth=0.8, color='g')\n",
    "plt.savefig('plots/rauto_comparison.png', dpi=300)"
   ]
  },
  {
   "cell_type": "markdown",
   "metadata": {},
   "source": [
    "# Load the old classifications"
   ]
  },
  {
   "cell_type": "code",
   "execution_count": 170,
   "metadata": {},
   "outputs": [],
   "source": [
    "oldclass = Table().read('old_stuff/old_classifications.dat', format='ascii')\n",
    "fullv7 = Table().read('../catalogs/personal_catalogs/slits_phot_zs_tester.csv', format='csv')"
   ]
  },
  {
   "cell_type": "code",
   "execution_count": 174,
   "metadata": {},
   "outputs": [
    {
     "name": "stdout",
     "output_type": "stream",
     "text": [
      "['cluster', 'name', 'EDisCSID', 'ra', 'dec', 'z', 'Q', 'rcl(mpc)', 'rcl(r200)', 'morph', 'weightQ4', 'weightQ3', 'weightQ2']\n"
     ]
    }
   ],
   "source": [
    "print(oldclass.colnames)"
   ]
  },
  {
   "cell_type": "code",
   "execution_count": 171,
   "metadata": {},
   "outputs": [],
   "source": [
    "v7coords = SkyCoord(ra=fullv7['ra']*u.degree, dec=fullv7['dec']*u.degree)\n",
    "classcoords = SkyCoord(ra=oldclass['ra']*u.degree, dec=oldclass['dec']*u.degree)"
   ]
  },
  {
   "cell_type": "code",
   "execution_count": 172,
   "metadata": {},
   "outputs": [],
   "source": [
    "# the nth element of idx is in the index in v7coords that best matches the nth element in classcoords\n",
    "idx, d2d, d3d = classcoords.match_to_catalog_sky(v7coords)\n",
    "# Only keep when slit-obj sep is less than 1 arcsecond\n",
    "#close_idx = idx[np.where(d2d < 1.*u.arcsecond)[0]]"
   ]
  },
  {
   "cell_type": "code",
   "execution_count": 190,
   "metadata": {},
   "outputs": [
    {
     "name": "stdout",
     "output_type": "stream",
     "text": [
      "177 97\n"
     ]
    }
   ],
   "source": [
    "closeoldclass = idx[np.where(d2d < 1.*u.arcsecond)]\n",
    "print(len(oldclass), len(closeoldclass))"
   ]
  },
  {
   "cell_type": "code",
   "execution_count": 199,
   "metadata": {},
   "outputs": [
    {
     "name": "stdout",
     "output_type": "stream",
     "text": [
      "139\n"
     ]
    }
   ],
   "source": [
    "print(len(np.where(fullv7[idx]['Q'] == 4)[0]))"
   ]
  },
  {
   "cell_type": "markdown",
   "metadata": {},
   "source": [
    "# ^ Lol shit"
   ]
  },
  {
   "cell_type": "code",
   "execution_count": null,
   "metadata": {},
   "outputs": [],
   "source": []
  }
 ],
 "metadata": {
  "kernelspec": {
   "display_name": "Python 3",
   "language": "python",
   "name": "python3"
  },
  "language_info": {
   "codemirror_mode": {
    "name": "ipython",
    "version": 3
   },
   "file_extension": ".py",
   "mimetype": "text/x-python",
   "name": "python",
   "nbconvert_exporter": "python",
   "pygments_lexer": "ipython3",
   "version": "3.6.5"
  }
 },
 "nbformat": 4,
 "nbformat_minor": 2
}
