{
 "cells": [
  {
   "cell_type": "code",
   "execution_count": 79,
   "metadata": {},
   "outputs": [],
   "source": [
    "%matplotlib notebook\n",
    "import numpy as np\n",
    "import matplotlib\n",
    "from astropy.table import Table, vstack, join\n",
    "import matplotlib.pyplot as plt\n",
    "import matplotlib.ticker as ticker\n",
    "import plotting_resources as res\n",
    "import matplotlib.gridspec as gs\n",
    "plt.rc('text', usetex=True)\n",
    "plt.ioff()\n",
    "\n",
    "rauto_cut = 22.9\n",
    "frauto_cut = 10**((rauto_cut-23.9)/(-2.5))"
   ]
  },
  {
   "cell_type": "markdown",
   "metadata": {},
   "source": [
    "# Define some functions"
   ]
  },
  {
   "cell_type": "code",
   "execution_count": 80,
   "metadata": {},
   "outputs": [],
   "source": [
    "def calc_outlier_frac(res, thresh):\n",
    "    good = 0.0\n",
    "    N = float(len(res))\n",
    "    for r in res:\n",
    "        if abs(r) < thresh:\n",
    "            good+=1.0\n",
    "    return (N-good)/N\n",
    "\n",
    "def safediv(x,y):\n",
    "    if y == 0: return 0\n",
    "    return x/y\n",
    "\n",
    "def find_histogram_edges(hist, bins):\n",
    "    xs, ys = [], []\n",
    "    for i in range(len(hist)):\n",
    "        xs.append(bins[i])\n",
    "        xs.append(bins[i+1])\n",
    "        ys.append(hist[i])\n",
    "        ys.append(hist[i])\n",
    "    return xs, ys"
   ]
  },
  {
   "cell_type": "markdown",
   "metadata": {},
   "source": [
    "# Load the catalog"
   ]
  },
  {
   "cell_type": "code",
   "execution_count": 81,
   "metadata": {},
   "outputs": [],
   "source": [
    "#slitcat = Table().read('../catalogs/personal_catalogs/slits_phot_zs_cutonslitdist_rcl.csv', format='csv')\n",
    "slitcat = Table().read('../catalogs/personal_catalogs/slits_phot_zs_cutonslitdist.csv', format='csv')\n",
    "\n",
    "ldpcat = slitcat[np.where((slitcat['Rauto'] < rauto_cut) & \n",
    "                          (slitcat['zSpec'] > 0) & \n",
    "                          (slitcat['slit_distance'] < 1.0))]"
   ]
  },
  {
   "cell_type": "markdown",
   "metadata": {},
   "source": [
    "# Split the catalog on Q"
   ]
  },
  {
   "cell_type": "code",
   "execution_count": 82,
   "metadata": {},
   "outputs": [],
   "source": [
    "ldpcat['z_resid'] = ldpcat['zLDP'] - ldpcat['zSpec']\n",
    "Q4 = ldpcat[np.where(ldpcat['Q'] == 4)]\n",
    "Q3 = ldpcat[np.where(ldpcat['Q'] == 3)]\n",
    "Q2 = ldpcat[np.where(ldpcat['Q'] == 2)]"
   ]
  },
  {
   "cell_type": "markdown",
   "metadata": {},
   "source": [
    "# Make the outlier histogram"
   ]
  },
  {
   "cell_type": "code",
   "execution_count": 83,
   "metadata": {},
   "outputs": [],
   "source": [
    "def calc_frac(nbad, ntot):\n",
    "    if ntot <= 6:\n",
    "        frac = 0.0\n",
    "        upper, lower = 0.0, 0.0\n",
    "    else:\n",
    "        #if True:\n",
    "        nbad = float(nbad)\n",
    "        ntot = float(ntot)\n",
    "        \n",
    "        #frac = nbad/(ntot)\n",
    "        frac = safediv(nbad, ntot)\n",
    "        ntotinv = safediv(1.0, ntot)\n",
    "        upper = np.sqrt((res.upper_limit(nbad)-nbad)**2*(ntotinv)**2 +\n",
    "                        (res.upper_limit(ntot)-ntot)**2*(frac*ntotinv)**2)\n",
    "        lower = np.sqrt((nbad-res.lower_limit(nbad))**2*(ntotinv)**2 +\n",
    "                        (ntot-res.lower_limit(ntot))**2*(frac*ntotinv)**2)  \n",
    "        \n",
    "    return frac, upper, lower"
   ]
  },
  {
   "cell_type": "code",
   "execution_count": 84,
   "metadata": {},
   "outputs": [],
   "source": [
    "outliers = Table({'low': np.arange(19., 23.1, 1.0)[:-1], \n",
    "                  'high': np.arange(19., 23.1, 1.0)[1:], \n",
    "                  'Nout_Q4': np.zeros(4),\n",
    "                  'Nout_Q3': np.zeros(4),  \n",
    "                  'Nout_Q2': np.zeros(4),\n",
    "                  'Ntot_Q4': np.zeros(4),\n",
    "                  'Ntot_Q3': np.zeros(4),  \n",
    "                  'Ntot_Q2': np.zeros(4),\n",
    "                  'f4': np.zeros(4),\n",
    "                  'f4_up': np.zeros(4),\n",
    "                  'f4_lo': np.zeros(4),\n",
    "                  'f3': np.zeros(4),\n",
    "                  'f3_up': np.zeros(4),\n",
    "                  'f3_lo': np.zeros(4),\n",
    "                  'f2': np.zeros(4),\n",
    "                  'f2_up': np.zeros(4),\n",
    "                  'f2_lo': np.zeros(4)})"
   ]
  },
  {
   "cell_type": "code",
   "execution_count": 85,
   "metadata": {},
   "outputs": [],
   "source": [
    "for i in ['4','3','2']:\n",
    "    var = 'Q'+i\n",
    "    for row in outliers:\n",
    "        row['Ntot_'+var] = len(eval(var)[np.where((eval(var)['Rauto'] > row['low']) &\n",
    "                                                 (eval(var)['Rauto'] < row['high']))])\n",
    "        row['Nout_'+var] = len(eval(var)[np.where((eval(var)['Rauto'] > row['low']) & \n",
    "                                                  (eval(var)['Rauto'] < row['high']) & \n",
    "                                                  (abs(eval(var)['zLDP']-eval(var)['zSpec']) > 0.02))])\n",
    "        f, u, l = calc_frac(row['Nout_'+var], row['Ntot_'+var])\n",
    "        row['f'+i] = f\n",
    "        row['f'+i+'_up'] = u\n",
    "        row['f'+i+'_lo'] = l\n",
    "        "
   ]
  },
  {
   "cell_type": "code",
   "execution_count": 86,
   "metadata": {},
   "outputs": [],
   "source": [
    "xo4, yo4 = find_histogram_edges(outliers['f4'], np.arange(19., 23.1, 1.0))\n",
    "xo3, yo3 = find_histogram_edges(outliers['f3'], np.arange(19., 23.1, 1.0))\n",
    "xo2, yo2 = find_histogram_edges(outliers['f2'], np.arange(19., 23.1, 1.0))"
   ]
  },
  {
   "cell_type": "markdown",
   "metadata": {},
   "source": [
    "# Cut off error bars at 0 and 1"
   ]
  },
  {
   "cell_type": "code",
   "execution_count": 87,
   "metadata": {},
   "outputs": [],
   "source": [
    "for i in ['4', '3', '2']:\n",
    "    for row in outliers:\n",
    "        if row['f'+i] + row['f'+i+'_up'] > 1.0:\n",
    "            row['f'+i+'_up'] = 1.0 - row['f'+i]\n",
    "        if row['f'+i] - row['f'+i+'_lo'] < 0.0:\n",
    "            row['f'+i+'_lo'] = row['f'+i]"
   ]
  },
  {
   "cell_type": "markdown",
   "metadata": {},
   "source": [
    "# Build the plot"
   ]
  },
  {
   "cell_type": "code",
   "execution_count": 88,
   "metadata": {},
   "outputs": [],
   "source": [
    "font = {'family' : 'normal',\n",
    "        'weight' : 'bold',\n",
    "        'size'   : 18}\n",
    "\n",
    "matplotlib.rc('font', **font)"
   ]
  },
  {
   "cell_type": "code",
   "execution_count": 89,
   "metadata": {},
   "outputs": [],
   "source": [
    "hist_args = {'histtype': 'step', 'linewidth':1}\n",
    "errbar_args = {'lw':0.5, 'capsize': 3, 'elinewidth': 0.5, 'capthick': 0.5, 'ms':0}\n",
    "legend_args = {'fontsize': 13, 'frameon': False}"
   ]
  },
  {
   "cell_type": "code",
   "execution_count": 90,
   "metadata": {},
   "outputs": [],
   "source": [
    "f, ((a0), (a1), (a2)) = plt.subplots(3,1, gridspec_kw={'height_ratios':[1,2,1]}, sharex=True)\n",
    "\n",
    "# Plot top\n",
    "a0.hist(Q4['Rauto'], bins=np.arange(19., 23.1, 0.5), color='black', **hist_args)\n",
    "a0.hist(Q3['Rauto'], bins=np.arange(19., 23.1, 0.5), color='blue', **hist_args)\n",
    "a0.hist(Q2['Rauto'], bins=np.arange(19., 23.1, 0.5), color='red', **hist_args)\n",
    "\n",
    "# Plot middle\n",
    "a1.axhline(0.0, c='0.5', lw=0.8)\n",
    "a1.scatter(Q4['Rauto'], Q4['z_resid'], c='black', s=8, label=r'$Q=4$')\n",
    "a1.scatter(Q3['Rauto'], Q3['z_resid'], c='blue', s=8, marker='^', label=r'$Q=3$')\n",
    "a1.scatter(Q2['Rauto'], Q2['z_resid'], c='red', s=8, marker='s', label=r'$Q=2$')\n",
    "a1.axvline(22.9, color='k', ls='--', lw=0.5)\n",
    "\n",
    "# Plot bottom\n",
    "xcents = np.array([19.5, 20.5, 21.5, 22.5])\n",
    "a2.plot(xo4, 100.*np.array(yo4), '-k', linewidth=1)\n",
    "a2.plot(xo3, 100.*np.array(yo3), '-b', linewidth=1)\n",
    "a2.plot(xo2, 100.*np.array(yo2), '-r', linewidth=1)\n",
    "a2.errorbar(xcents, 100.*outliers['f4'], yerr=[100.*outliers['f4_lo'], 100.*outliers['f4_up']], fmt='.k', **errbar_args)\n",
    "a2.errorbar(xcents-0.1, 100.*outliers['f3'], yerr=[100.*outliers['f3_lo'], 100.*outliers['f3_up']], fmt='.b', **errbar_args)\n",
    "a2.errorbar(xcents+0.1, 100.*outliers['f2'], yerr=[100.*outliers['f2_lo'], 100.*outliers['f2_up']], fmt='.r', **errbar_args)\n",
    "\n",
    "\n",
    "\n",
    "\n",
    "\n",
    "\n",
    "# Config top\n",
    "a0.set_xlim([19, 23])\n",
    "a0.set_ylim([0, 80])\n",
    "a0.set_ylabel(r'$\\rm N$')\n",
    "a0.set_yticks([0, 30, 60])\n",
    "a0.set_yticklabels([0, 30, 60], fontsize=14)\n",
    "\n",
    "# Config middle\n",
    "a1.set_xlim([19, 23])\n",
    "a1.set_ylim([-0.8, 0.3])\n",
    "a1.set_ylabel(r'$\\Delta z$')\n",
    "a1.set_yticks([-0.6, -0.4, -0.2, 0.0, 0.2])\n",
    "a1.set_yticklabels([-0.6, -0.4, -0.2, 0.0, 0.2], fontsize=14)\n",
    "a1.legend(**legend_args)\n",
    "\n",
    "\n",
    "# Config bottom\n",
    "xticks_arr = [19, 20, 21, 22, 23]\n",
    "a2.set_xticks(xticks_arr)\n",
    "a2.set_xticklabels(xticks_arr, fontsize=14)\n",
    "a2.set_ylim([-5., 105])\n",
    "a2.set_ylabel(r'Outlier \\%')\n",
    "a2.set_xlabel(r'$R_{\\rm AUTO}$')\n",
    "a2.set_yticks(np.array([0.0, 0.2, 0.4, 0.6, 0.8, 1.0])*100.)\n",
    "a2.set_yticklabels([0, 20, 40, 60, 80, 100], fontsize=14)\n",
    "\n",
    "\n",
    "plt.tight_layout()\n",
    "f.subplots_adjust(hspace=0, wspace=0.1)"
   ]
  },
  {
   "cell_type": "code",
   "execution_count": 92,
   "metadata": {},
   "outputs": [],
   "source": [
    "plt.savefig('plots_02members/zvRauto.eps', dpi=300)\n",
    "#plt.show()"
   ]
  },
  {
   "cell_type": "code",
   "execution_count": null,
   "metadata": {},
   "outputs": [],
   "source": []
  }
 ],
 "metadata": {
  "kernelspec": {
   "display_name": "Python 3",
   "language": "python",
   "name": "python3"
  },
  "language_info": {
   "codemirror_mode": {
    "name": "ipython",
    "version": 3
   },
   "file_extension": ".py",
   "mimetype": "text/x-python",
   "name": "python",
   "nbconvert_exporter": "python",
   "pygments_lexer": "ipython3",
   "version": "3.6.4"
  }
 },
 "nbformat": 4,
 "nbformat_minor": 2
}
