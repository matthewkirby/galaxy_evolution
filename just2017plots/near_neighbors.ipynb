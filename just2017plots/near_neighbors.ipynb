{
 "cells": [
  {
   "cell_type": "code",
   "execution_count": 12,
   "metadata": {},
   "outputs": [],
   "source": [
    "%matplotlib notebook\n",
    "import numpy as np\n",
    "import matplotlib\n",
    "from astropy.table import Table, vstack, join\n",
    "from astropy.coordinates import SkyCoord\n",
    "from astropy import units as u\n",
    "import matplotlib.pyplot as plt\n",
    "import matplotlib.ticker as ticker\n",
    "import plotting_resources as res\n",
    "import matplotlib.gridspec as gs\n",
    "plt.rc('text', usetex=True)\n",
    "plt.ioff()\n",
    "\n",
    "rauto_cut = 22.9\n",
    "frauto_cut = 10**((rauto_cut-23.9)/(-2.5))"
   ]
  },
  {
   "cell_type": "markdown",
   "metadata": {},
   "source": [
    "# Load the catalogs"
   ]
  },
  {
   "cell_type": "code",
   "execution_count": 2,
   "metadata": {},
   "outputs": [],
   "source": [
    "slitcat = Table().read('../catalogs/personal_catalogs/slits_phot_zs_cutonslitdist_rcl.csv', format='csv')\n",
    "ldpcat = slitcat[np.where((slitcat['Rauto'] < rauto_cut) & \n",
    "                          (slitcat['Q'] >= 4) & \n",
    "                          (slitcat['slit_distance'] < 1.0))]\n",
    "cltable = res.load_clusters()\n",
    "rfmags = Table().read('../catalogs/eazy_colors/ediscs_zldp_zfors_EAzY_outputs.csv', format='csv')\n",
    "rfmags.rename_column('id', 'ids')\n",
    "\n",
    "ldpcat = join(ldpcat, rfmags['ids','MAG_AB_rfB', 'MAG_AB_rfU'], keys='ids', join_type='left')\n",
    "ldpcat['UB_color'] = ldpcat['MAG_AB_rfU'] - ldpcat['MAG_AB_rfB']"
   ]
  },
  {
   "cell_type": "markdown",
   "metadata": {},
   "source": [
    "# Build the infall catalog"
   ]
  },
  {
   "cell_type": "code",
   "execution_count": 3,
   "metadata": {},
   "outputs": [],
   "source": [
    "infallcat = Table()\n",
    "for cl in cltable:\n",
    "    infall = ldpcat[np.where((ldpcat['field'] == cl['tablename']) &\n",
    "                             (abs(ldpcat['zLDP'] - cl['z']) < 0.02) &\n",
    "                             (ldpcat['d_cl_mpc'] > cl['r200']) & \n",
    "                             (ldpcat['d_cl_mpc'] < cl['rinfall']))]\n",
    "    infallcat = vstack([infallcat, infall])"
   ]
  },
  {
   "cell_type": "markdown",
   "metadata": {},
   "source": [
    "# Build the control catalog"
   ]
  },
  {
   "cell_type": "code",
   "execution_count": 4,
   "metadata": {},
   "outputs": [],
   "source": [
    "# Chose clusters to use\n",
    "cltable.sort('z')\n",
    "controlcls = cltable[0:1]\n",
    "\n",
    "for cl in cltable:\n",
    "    if cl['z'] > controlcls['z'][-1] + 0.04:\n",
    "        controlcls.add_row(cl)\n",
    "\n",
    "# Build the catalogs\n",
    "controlcat = Table()\n",
    "for cl in controlcls:\n",
    "    for fcl in controlcls:\n",
    "        subtable = ldpcat[np.where((ldpcat['field'] == fcl['tablename']) &\n",
    "                                   (abs(ldpcat['zLDP']-fcl['z']) > 0.02) &\n",
    "                                   (abs(ldpcat['zLDP']-cl['z']) < 0.02) &\n",
    "                                   (ldpcat['d_cl_mpc'] > fcl['r200']) & \n",
    "                                   (ldpcat['d_cl_mpc'] < fcl['rinfall']))]\n",
    "        subtable['field'] = cl['tablename']\n",
    "        controlcat = vstack([controlcat, subtable])"
   ]
  },
  {
   "cell_type": "markdown",
   "metadata": {},
   "source": [
    "# Calculate the fraction of objects that have a neighbor within $d_\\theta$\n",
    "For each cluster, calculate N_nn, N_tot. Once I do every cluster, I can calculate the fraction and error bar"
   ]
  },
  {
   "cell_type": "code",
   "execution_count": 5,
   "metadata": {},
   "outputs": [],
   "source": [
    "def calc_frac_with_nn(catalog, dtheta, cl):\n",
    "    n_nn = 0\n",
    "    coords = SkyCoord(catalog['ra']*u.degree, catalog['dec']*u.degree)\n",
    "    for obj in catalog:\n",
    "        seps = SkyCoord(obj['ra']*u.degree, obj['dec']*u.degree).separation(coords).radian*cl['D_A']\n",
    "        if sorted(seps)[1] < dtheta:\n",
    "            n_nn += 1\n",
    "    return n_nn, len(catalog)\n",
    "\n",
    "def calc_uncert(sample, col, ntot):\n",
    "    nnl = (sample[col] - res.lower_limit(sample[col]))\n",
    "    \n",
    "    upper = np.sqrt(((res.upper_limit(sample[col]) - sample[col])/ntot)**2 + \n",
    "                    (res.upper_limit(ntot) - ntot)**2*(sample[col]/ntot**2)**2)\n",
    "    lower = np.sqrt(((sample[col] - res.lower_limit(sample[col]))/ntot)**2 + \n",
    "                    (res.lower_limit(ntot) - ntot)**2*(sample[col]/ntot**2)**2)\n",
    "    sample['f_'+col[-1]+'_l'] = lower\n",
    "    sample['f_'+col[-1]+'_u'] = upper\n",
    "    return sample"
   ]
  },
  {
   "cell_type": "code",
   "execution_count": 6,
   "metadata": {},
   "outputs": [],
   "source": [
    "def calc_all_fracs(input_cat, input_cltable):\n",
    "    dtheta_list = [0.15, 0.2, 0.25, 0.3, 0.35]\n",
    "    combined_sample = Table(names=('n_nn_a','n_nn_r','n_nn_b', 'dtheta'))\n",
    "\n",
    "    # Calculate N for each bin dtheta bin\n",
    "    for dtheta in dtheta_list:\n",
    "        ndict = np.array([0, 0, 0])\n",
    "        ntot_a, ntot_r, ntot_b = 0, 0, 0\n",
    "\n",
    "        for cl in input_cltable:\n",
    "            infall = input_cat[np.where(input_cat['field'] == cl['tablename'])]\n",
    "            n_nn_a, ntot_ai = calc_frac_with_nn(infall, dtheta, cl)\n",
    "\n",
    "            red, blue = res.add_red_blue(infall, cl)\n",
    "            if len(red) > 1:\n",
    "                n_nn_r, ntot_ri = calc_frac_with_nn(red, dtheta, cl)\n",
    "            else:\n",
    "                n_nn_r, ntot_ri = 0, len(red)\n",
    "\n",
    "            if len(blue) > 1:\n",
    "                n_nn_b, ntot_bi = calc_frac_with_nn(blue, dtheta, cl)\n",
    "            else:\n",
    "                n_nn_b, ntot_bi = 0, len(blue)\n",
    "                \n",
    "            ntot_a += ntot_ai\n",
    "            ntot_r += ntot_ri\n",
    "            ntot_b += ntot_bi\n",
    "            ndict += [n_nn_a, n_nn_r, n_nn_b]\n",
    "\n",
    "        combined_sample.add_row(np.append(ndict, dtheta))\n",
    "\n",
    "    # Calculate the fractions and error bars\n",
    "    combined_sample['f_r'] = combined_sample['n_nn_r']/ntot_r\n",
    "    combined_sample = calc_uncert(combined_sample, 'n_nn_r', ntot_r)\n",
    "\n",
    "    combined_sample['f_b'] = combined_sample['n_nn_b']/ntot_b\n",
    "    combined_sample = calc_uncert(combined_sample, 'n_nn_b', ntot_b)\n",
    "\n",
    "    combined_sample['f_a'] = combined_sample['n_nn_a']/ntot_a\n",
    "    combined_sample = calc_uncert(combined_sample, 'n_nn_a', ntot_a)\n",
    "    \n",
    "    return combined_sample"
   ]
  },
  {
   "cell_type": "code",
   "execution_count": 7,
   "metadata": {},
   "outputs": [],
   "source": [
    "cluster_sample = calc_all_fracs(infallcat, cltable)\n",
    "control_sample = calc_all_fracs(controlcat, controlcls)"
   ]
  },
  {
   "cell_type": "markdown",
   "metadata": {},
   "source": [
    "# Build the plot"
   ]
  },
  {
   "cell_type": "code",
   "execution_count": 10,
   "metadata": {},
   "outputs": [],
   "source": [
    "font = {'family' : 'normal',\n",
    "        'weight' : 'bold',\n",
    "        'size'   : 22}\n",
    "matplotlib.rc('font', **font)\n",
    "\n",
    "errbar_args = {'lw':1.0, 'capsize': 3, 'elinewidth': 0.5, 'capthick': 0.5, 'markersize':4}\n",
    "legend_args = {'fontsize': 10, 'frameon': False, 'loc':2}"
   ]
  },
  {
   "cell_type": "code",
   "execution_count": 13,
   "metadata": {},
   "outputs": [],
   "source": [
    "fig = plt.figure(figsize=(8, 5))\n",
    "outer = gs.GridSpec(10, 1, hspace=0)\n",
    "a1 = plt.subplot(outer[:6])\n",
    "a2 = plt.subplot(outer[6:])\n",
    "\n",
    "\n",
    "# Make the top plot\n",
    "a1.errorbar(cluster_sample['dtheta'], cluster_sample['f_r'], fmt='-or', label=r'Infall - red/red',\n",
    "            yerr=[cluster_sample['f_r_l'], cluster_sample['f_r_u']],\n",
    "            **errbar_args)\n",
    "a1.errorbar(cluster_sample['dtheta'], cluster_sample['f_b'], fmt='-ob', label=r'Infall - blue/blue',\n",
    "            yerr=[cluster_sample['f_b_l'], cluster_sample['f_b_u']],\n",
    "            **errbar_args)\n",
    "a1.errorbar(control_sample['dtheta']-0.01, control_sample['f_r'], fmt='--sr', label=r'Control - red/red',\n",
    "            yerr=[cluster_sample['f_r_l'], cluster_sample['f_r_u']],\n",
    "            **errbar_args)\n",
    "a1.errorbar(control_sample['dtheta']-0.01, control_sample['f_b'], fmt='--sb', label=r'Control - blue/blue',\n",
    "            yerr=[cluster_sample['f_b_l'], cluster_sample['f_b_u']],\n",
    "            **errbar_args)\n",
    "\n",
    "# Format the top plot\n",
    "a1.set_xticks([0.1, 0.2, 0.3, 0.4])\n",
    "a1.set_xticklabels([]);\n",
    "#a1.set_yticks([0.0, 0.1, 0.2, 0.3, 0.4])\n",
    "#a1.set_yticklabels([0.0, 0.1, 0.2, 0.3, 0.4], fontsize=16)\n",
    "a1.legend(**legend_args)\n",
    "\n",
    "\n",
    "# Make the bottom plot\n",
    "a2.errorbar(cluster_sample['dtheta'], cluster_sample['f_a'], fmt='-ok', label=r'Infall - any color',\n",
    "            yerr=[cluster_sample['f_a_l'], cluster_sample['f_a_u']],\n",
    "            **errbar_args)\n",
    "a2.errorbar(control_sample['dtheta']-.01, control_sample['f_a'], fmt='--sk', label=r'Control - any color',\n",
    "            yerr=[control_sample['f_a_l'], control_sample['f_a_u']],\n",
    "            **errbar_args)\n",
    "\n",
    "# Format the bottom plot\n",
    "a2.set_xticks([0.1, 0.2, 0.3, 0.4])\n",
    "a2.set_xticklabels([0.1, 0.2, 0.3, 0.4], fontsize=16);\n",
    "#a2.set_yticks([0.0, 0.1, 0.2, 0.3, 0.4])\n",
    "#a2.set_yticklabels([0.0, 0.1, 0.2, 0.3, 0.4], fontsize=16)\n",
    "a2.legend(**legend_args)\n",
    "a2.set_xlabel(r'$d_\\theta$ (Mpc)')\n",
    "\n",
    "fig.text(0.05, 0.5, r'Fraction within $d_\\theta$', ha='center', va='center', rotation='vertical')\n",
    "plt.tight_layout(rect=[0.04,0,1,1])"
   ]
  },
  {
   "cell_type": "code",
   "execution_count": 14,
   "metadata": {},
   "outputs": [],
   "source": [
    "plt.savefig('plots/frac_neighbors.eps', dpi=800)"
   ]
  },
  {
   "cell_type": "markdown",
   "metadata": {},
   "source": [
    "# Plot the red fraction in each bin for various samples"
   ]
  },
  {
   "cell_type": "code",
   "execution_count": 15,
   "metadata": {},
   "outputs": [],
   "source": [
    "def calc_red_frac(nred, nblue):\n",
    "    ntot = nred+nblue\n",
    "    \n",
    "    redfrac = nred/(ntot)\n",
    "    upper = np.sqrt((res.upper_limit(nred)-nred)**2*(1./ntot - nred/ntot**2)**2 + \n",
    "                    (res.upper_limit(nblue)-nblue)**2*(nred/ntot**2)**2)\n",
    "    lower = np.sqrt((nred-res.lower_limit(nred))**2*(1./ntot - nred/ntot**2)**2 + \n",
    "                    (nblue-res.upper_limit(nblue))**2*(nred/ntot**2)**2)\n",
    "    \n",
    "    return redfrac, upper, lower"
   ]
  },
  {
   "cell_type": "code",
   "execution_count": 16,
   "metadata": {},
   "outputs": [],
   "source": [
    "fig = plt.figure(figsize=(8, 5))\n",
    "a1 = fig.gca()\n",
    "\n",
    "# Infall obj with neighbors\n",
    "redfrac, upper, lower = calc_red_frac(cluster_sample['n_nn_r'], cluster_sample['n_nn_b'])\n",
    "a1.errorbar(cluster_sample['dtheta'], redfrac, fmt='-ok', label=r'Infall - with neighbor',\n",
    "            yerr=[lower, upper],\n",
    "            **errbar_args)\n",
    "# Infall obj without neighbors\n",
    "redfrac, upper, lower = calc_red_frac((cluster_sample['n_nn_r']/cluster_sample['f_r'])-cluster_sample['n_nn_r'],\n",
    "                                      (cluster_sample['n_nn_b']/cluster_sample['f_b'])-cluster_sample['n_nn_b'])\n",
    "a1.errorbar(cluster_sample['dtheta'], redfrac, fmt='-ok', label=r'Infall - without neighbor',\n",
    "            yerr=[lower, upper],\n",
    "            **errbar_args, mfc='white')\n",
    "\n",
    "# Control obj with neighbors\n",
    "redfrac, upper, lower = calc_red_frac(control_sample['n_nn_r'], control_sample['n_nn_b'])\n",
    "a1.errorbar(control_sample['dtheta']-.01, redfrac, fmt='--sk', label=r'Control - with neighbor',\n",
    "            yerr=[lower, upper],\n",
    "            **errbar_args)\n",
    "# Control obj without neighbors\n",
    "redfrac, upper, lower = calc_red_frac((control_sample['n_nn_r']/control_sample['f_r'])-control_sample['n_nn_r'],\n",
    "                                      (control_sample['n_nn_b']/control_sample['f_b'])-control_sample['n_nn_b'])\n",
    "a1.errorbar(control_sample['dtheta']-.01, redfrac, fmt='--sk', label=r'Control - without neighbor',\n",
    "            yerr=[lower, upper],\n",
    "            **errbar_args, mfc='white')\n",
    "\n",
    "\n",
    "\n",
    "\n",
    "a1.legend(**legend_args)\n",
    "\n",
    "a1.set_ylim([0.2,.85])\n",
    "\n",
    "a1.set_ylabel(r'Red Fraction within $d_\\theta$')\n",
    "a1.set_xlabel(r'$d_\\theta$ (Mpc)')\n",
    "plt.tight_layout()"
   ]
  },
  {
   "cell_type": "code",
   "execution_count": 17,
   "metadata": {},
   "outputs": [],
   "source": [
    "plt.savefig('plots/redfrac_neighbors.eps', dpi=800)"
   ]
  },
  {
   "cell_type": "code",
   "execution_count": null,
   "metadata": {},
   "outputs": [],
   "source": []
  }
 ],
 "metadata": {
  "kernelspec": {
   "display_name": "Python 3",
   "language": "python",
   "name": "python3"
  },
  "language_info": {
   "codemirror_mode": {
    "name": "ipython",
    "version": 3
   },
   "file_extension": ".py",
   "mimetype": "text/x-python",
   "name": "python",
   "nbconvert_exporter": "python",
   "pygments_lexer": "ipython3",
   "version": "3.6.4"
  }
 },
 "nbformat": 4,
 "nbformat_minor": 2
}
