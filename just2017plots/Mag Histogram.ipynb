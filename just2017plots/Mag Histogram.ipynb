{
 "cells": [
  {
   "cell_type": "code",
   "execution_count": 1,
   "metadata": {},
   "outputs": [],
   "source": [
    "%matplotlib notebook\n",
    "from astropy.table import Table\n",
    "import numpy as np\n",
    "import matplotlib.pyplot as plt\n",
    "import matplotlib\n",
    "plt.rc('text', usetex=True)\n",
    "plt.ioff()\n",
    "#%matplotlib qt"
   ]
  },
  {
   "cell_type": "code",
   "execution_count": 2,
   "metadata": {},
   "outputs": [],
   "source": [
    "def find_histogram_edges(hist, bins):\n",
    "    xs, ys = [], []\n",
    "    for i in range(len(hist)):\n",
    "        xs.append(bins[i])\n",
    "        xs.append(bins[i+1])\n",
    "        ys.append(hist[i])\n",
    "        ys.append(hist[i])\n",
    "    return xs, ys"
   ]
  },
  {
   "cell_type": "markdown",
   "metadata": {},
   "source": [
    "# Load the catalog"
   ]
  },
  {
   "cell_type": "code",
   "execution_count": 3,
   "metadata": {},
   "outputs": [],
   "source": [
    "photo = Table().read('../catalogs/personal_catalogs/slits_phot_zs_cutonslitdist_rcl.csv', format='csv')\n",
    "#photo = photo[np .where(photo['slit_distance'] < 1.)]"
   ]
  },
  {
   "cell_type": "code",
   "execution_count": 4,
   "metadata": {},
   "outputs": [
    {
     "name": "stdout",
     "output_type": "stream",
     "text": [
      "['field', 'ids', 'ra', 'dec', 'x', 'y', 'B1', 'V1', 'R1', 'I1', 'z1', 'B2', 'V2', 'R2', 'I2', 'z2', 'B3', 'V3', 'R3', 'I3', 'z3', 'Bauto', 'Vauto', 'Rauto', 'Iauto', 'zauto', 'zLDP5_7', 'Q5_7', 'zphot', 'zphot_errUP', 'zphot_errLO', 'class_StarR', 'zLDP', 'zLDPerr', 'Q', 'zLDP_good', 'slit_distance', 'zSpec', 'zSpec_Q', 'spec_type', 'theta_cl_radian', 'd_cl_mpc']\n",
      "46953\n"
     ]
    }
   ],
   "source": [
    "print(photo.colnames)\n",
    "print(len(photo))"
   ]
  },
  {
   "cell_type": "markdown",
   "metadata": {},
   "source": [
    "# Prep histogram of Rauto"
   ]
  },
  {
   "cell_type": "code",
   "execution_count": 5,
   "metadata": {},
   "outputs": [],
   "source": [
    "zldps = photo[np.where(photo['zLDP'] > 0.0)[0]]\n",
    "zldps = zldps[np.where(zldps['slit_distance'] < 1.)]\n",
    "zldps = zldps[np.where(zldps['Rauto'] > 0.0)[0]]\n",
    "Q4 = zldps[np.where(zldps['Q'] == 4)[0]]\n",
    "Q3 = zldps[np.where(zldps['Q'] == 3)[0]]\n",
    "Q2 = zldps[np.where(zldps['Q'] == 2)[0]]"
   ]
  },
  {
   "cell_type": "code",
   "execution_count": 6,
   "metadata": {},
   "outputs": [
    {
     "name": "stderr",
     "output_type": "stream",
     "text": [
      "/Users/matthewkirby/anaconda3/lib/python3.6/site-packages/ipykernel_launcher.py:3: RuntimeWarning: divide by zero encountered in log10\n",
      "  This is separate from the ipykernel package so we can avoid doing imports until\n",
      "/Users/matthewkirby/anaconda3/lib/python3.6/site-packages/ipykernel_launcher.py:4: RuntimeWarning: divide by zero encountered in log10\n",
      "  after removing the cwd from sys.path.\n"
     ]
    }
   ],
   "source": [
    "hist_edges = np.arange(18., 24.1, 0.25)\n",
    "xR4, yR4 = find_histogram_edges(np.log10(np.histogram(Q4['Rauto'], hist_edges)[0]), hist_edges)\n",
    "xR3, yR3 = find_histogram_edges(np.log10(np.histogram(Q3['Rauto'], hist_edges)[0]), hist_edges)\n",
    "xR2, yR2 = find_histogram_edges(np.log10(np.histogram(Q2['Rauto'], hist_edges)[0]), hist_edges)\n",
    "xRa, yRa = find_histogram_edges(np.log10(np.histogram(zldps['Rauto'], hist_edges)[0]), hist_edges)"
   ]
  },
  {
   "cell_type": "markdown",
   "metadata": {},
   "source": [
    "# Prep Rauto completeness"
   ]
  },
  {
   "cell_type": "code",
   "execution_count": 7,
   "metadata": {},
   "outputs": [],
   "source": [
    "rauto = photo[np.where(photo['Rauto'] > 0.0)[0]]\n",
    "total = np.asarray([float(tempx) for tempx in np.histogram(rauto['Rauto'], hist_edges)[0]])"
   ]
  },
  {
   "cell_type": "code",
   "execution_count": 8,
   "metadata": {},
   "outputs": [],
   "source": [
    "good4 = np.asarray([float(tempx) for tempx in np.histogram(Q4['Rauto'], hist_edges)[0]])\n",
    "good3 = np.asarray([float(tempx) for tempx in np.histogram(Q3['Rauto'], hist_edges)[0]])\n",
    "good2 = np.asarray([float(tempx) for tempx in np.histogram(Q2['Rauto'], hist_edges)[0]])\n",
    "gooda = np.asarray([float(tempx) for tempx in np.histogram(zldps['Rauto'], hist_edges)[0]])\n",
    "xRc4, yRc4 = find_histogram_edges(good4/total, hist_edges)\n",
    "xRc3, yRc3 = find_histogram_edges(good3/total, hist_edges)\n",
    "xRc2, yRc2 = find_histogram_edges(good2/total, hist_edges)\n",
    "xRca, yRca = find_histogram_edges(gooda/total, hist_edges)"
   ]
  },
  {
   "cell_type": "markdown",
   "metadata": {},
   "source": [
    "# Prep histogram of (V-I)"
   ]
  },
  {
   "cell_type": "code",
   "execution_count": 9,
   "metadata": {},
   "outputs": [],
   "source": [
    "zldps = photo[np.where(photo['zLDP'] > 0.0)[0]]\n",
    "zldps = zldps[np.where(zldps['slit_distance'] < 1.0)]\n",
    "zldps = zldps[np.where(zldps['Vauto'] > 0.0)[0]]\n",
    "zldps = zldps[np.where(zldps['Iauto'] > 0.0)[0]]\n",
    "zldps['VI'] = zldps['Vauto'] - zldps['Iauto']\n",
    "Q4 = zldps[np.where(zldps['Q'] == 4)[0]]\n",
    "Q3 = zldps[np.where(zldps['Q'] == 3)[0]]\n",
    "Q2 = zldps[np.where(zldps['Q'] == 2)[0]]"
   ]
  },
  {
   "cell_type": "code",
   "execution_count": 10,
   "metadata": {},
   "outputs": [],
   "source": [
    "hist_edges2 = np.arange(0., 2.51, 0.1)\n",
    "xV4, yV4 = find_histogram_edges(np.log10(np.histogram(Q4['VI'], hist_edges2)[0]), hist_edges2)\n",
    "xV3, yV3 = find_histogram_edges(np.log10(np.histogram(Q3['VI'], hist_edges2)[0]), hist_edges2)\n",
    "xV2, yV2 = find_histogram_edges(np.log10(np.histogram(Q2['VI'], hist_edges2)[0]), hist_edges2)\n",
    "xVa, yVa = find_histogram_edges(np.log10(np.histogram(zldps['VI'], hist_edges2)[0]), hist_edges2)"
   ]
  },
  {
   "cell_type": "markdown",
   "metadata": {},
   "source": [
    "# Prep V-I completeness"
   ]
  },
  {
   "cell_type": "code",
   "execution_count": 11,
   "metadata": {},
   "outputs": [],
   "source": [
    "viauto = photo[np.where(photo['Vauto'] > 0.0)[0]]\n",
    "viauto = viauto[np.where(viauto['Iauto'] > 0.0)[0]]\n",
    "viauto['VI'] = viauto['Vauto'] - viauto['Iauto']\n",
    "total = np.asarray([float(tempx) for tempx in np.histogram(viauto['VI'], hist_edges2)[0]])"
   ]
  },
  {
   "cell_type": "code",
   "execution_count": 12,
   "metadata": {},
   "outputs": [],
   "source": [
    "good4 = np.asarray([float(tempx) for tempx in np.histogram(Q4['VI'], hist_edges2)[0]])\n",
    "good3 = np.asarray([float(tempx) for tempx in np.histogram(Q3['VI'], hist_edges2)[0]])\n",
    "good2 = np.asarray([float(tempx) for tempx in np.histogram(Q2['VI'], hist_edges2)[0]])\n",
    "gooda = np.asarray([float(tempx) for tempx in np.histogram(zldps['VI'], hist_edges2)[0]])\n",
    "xVc4, yVc4 = find_histogram_edges(good4/total, hist_edges2)\n",
    "xVc3, yVc3 = find_histogram_edges(good3/total, hist_edges2)\n",
    "xVc2, yVc2 = find_histogram_edges(good2/total, hist_edges2)\n",
    "xVca, yVca = find_histogram_edges(gooda/total, hist_edges2)"
   ]
  },
  {
   "cell_type": "code",
   "execution_count": 13,
   "metadata": {},
   "outputs": [
    {
     "name": "stdout",
     "output_type": "stream",
     "text": [
      "[ 472.  791. 1264. 1736. 2101. 2517. 2770. 2968. 3098. 3242. 3095. 2924.\n",
      " 2728. 2341. 2167. 1815. 1715. 1501. 1336. 1030.  880.  757.  593.  447.\n",
      "  348.]\n"
     ]
    }
   ],
   "source": [
    "print(total)"
   ]
  },
  {
   "cell_type": "markdown",
   "metadata": {},
   "source": [
    "# Make the plot"
   ]
  },
  {
   "cell_type": "code",
   "execution_count": 14,
   "metadata": {},
   "outputs": [],
   "source": [
    "font = {'family' : 'normal',\n",
    "        'weight' : 'bold',\n",
    "        'size'   : 18}\n",
    "\n",
    "matplotlib.rc('font', **font)\n",
    "\n",
    "legend_args = {'fontsize': 13, 'frameon': False}\n",
    "tick_args = {'fontsize':14}"
   ]
  },
  {
   "cell_type": "code",
   "execution_count": 15,
   "metadata": {},
   "outputs": [],
   "source": [
    "f, ((a0, a1), (a2, a3)) = plt.subplots(2,2)\n",
    "plt.setp([a.get_xticklabels() for a in f.axes[0:-2]], visible=False)\n",
    "plt.tight_layout()\n",
    "f.subplots_adjust(hspace=0, wspace=0)"
   ]
  },
  {
   "cell_type": "code",
   "execution_count": 16,
   "metadata": {},
   "outputs": [],
   "source": [
    "# Make histogram of Rauto\n",
    "a0.plot(xR4, yR4, '-k', lw=1, label=r'$Q=4$')\n",
    "a0.plot(xR3, yR3, '-b', lw=1, label=r'$Q=3$')\n",
    "a0.plot(xR2, yR2, '-r', lw=1, label=r'$Q=2$')\n",
    "a0.plot(xRa, yRa, '-k', lw=2, label=r'$Q\\geq2$')\n",
    "a0.axvline(22.9, c='0.5', lw=0.8)\n",
    "\n",
    "a0.set_xlim([18, 24])\n",
    "a0.set_ylim(-0.15, 4)\n",
    "a0.set_ylabel(r'log N')\n",
    "a0.set_yticks([0, 2, 4])\n",
    "a0.set_yticklabels([0, 2, 4], **tick_args)\n",
    "a0.tick_params(direction='in', which='both')\n",
    "a0.set_xticks(np.arange(18, 24.1, 1))\n",
    "a0.minorticks_on()"
   ]
  },
  {
   "cell_type": "code",
   "execution_count": 17,
   "metadata": {},
   "outputs": [],
   "source": [
    "# Make histogram of V-I\n",
    "a1.plot(xV4, yV4, '-k', lw=1, label=r'$Q=4$')\n",
    "a1.plot(xV3, yV3, '-b', lw=1, label=r'$Q=3$')\n",
    "a1.plot(xV2, yV2, '-r', lw=1, label=r'$Q=2$')\n",
    "a1.plot(xVa, yVa, '-k', lw=2, label=r'$Q\\geq2$')\n",
    "a1.set_xlim([0, 2.5])\n",
    "a1.set_ylim(-0.15, 4)\n",
    "#a1.yaxis.set_label_position('right')\n",
    "a1.yaxis.tick_right()\n",
    "a1.set_yticks([0, 2, 4])\n",
    "a1.set_yticklabels([0, 2, 4], **tick_args)\n",
    "a1.tick_params(direction='in', which='both')\n",
    "a1.minorticks_on()\n",
    "a1.legend(**legend_args);"
   ]
  },
  {
   "cell_type": "code",
   "execution_count": 18,
   "metadata": {},
   "outputs": [],
   "source": [
    "a2.plot(xRc4, yRc4, '-k', lw=1, label=r'$Q=4$')\n",
    "a2.plot(xRc3, yRc3, '-b', lw=1, label=r'$Q=3$')\n",
    "a2.plot(xRc2, yRc2, '-r', lw=1, label=r'$Q=2$')\n",
    "a2.plot(xRca, yRca, '-k', lw=2, label=r'$Q\\geq2$')\n",
    "a2.axvline(22.9, c='0.5', lw=0.8)\n",
    "a2.set_xlim([18, 24])\n",
    "a2.set_ylim([0.0, 1.05])\n",
    "a2.set_xticks(np.arange(18, 24.1, 1))\n",
    "a2.set_xticklabels([18, 19, 20, 21, 22, 23, 24], **tick_args)\n",
    "a2.set_yticks([0, 0.5, 1.0])\n",
    "a2.set_yticklabels([0, 0.5, 1.0], **tick_args)\n",
    "a2.set_xlabel(r'$R_{auto}$')\n",
    "a2.set_ylabel('Fraction of Targets')\n",
    "a2.tick_params(direction='in', which='both')\n",
    "a2.minorticks_on()"
   ]
  },
  {
   "cell_type": "code",
   "execution_count": 19,
   "metadata": {},
   "outputs": [
    {
     "data": {
      "text/plain": [
       "[<matplotlib.axis.XTick at 0x15182c5198>,\n",
       " <matplotlib.axis.XTick at 0x151c392fd0>,\n",
       " <matplotlib.axis.XTick at 0x151c32f4a8>,\n",
       " <matplotlib.axis.XTick at 0x15182e0ef0>,\n",
       " <matplotlib.axis.XTick at 0x151c276780>]"
      ]
     },
     "execution_count": 19,
     "metadata": {},
     "output_type": "execute_result"
    }
   ],
   "source": [
    "a3.plot(xVc4, yVc4, '-k', lw=1, label=r'$Q=4$')\n",
    "a3.plot(xVc3, yVc3, '-b', lw=1, label=r'$Q=3$')\n",
    "a3.plot(xVc2, yVc2, '-r', lw=1, label=r'$Q=2$')\n",
    "a3.plot(xVca, yVca, '-k', lw=2, label=r'$Q\\geq2$')\n",
    "a3.yaxis.set_label_position('right')\n",
    "a3.set_xlim([0.0, 2.5])\n",
    "a3.set_ylim([0.0, 1.05])\n",
    "a3.yaxis.tick_right()\n",
    "\n",
    "\n",
    "a3.set_xticks([.5, 1.0, 1.5, 2.0, 2.5])\n",
    "a3.set_xticklabels([.5, 1., 1.5, 2., 2.5], **tick_args)\n",
    "a3.set_yticks([0, 0.5, 1.0])\n",
    "a3.set_yticklabels([0, 0.5, 1.0], **tick_args)\n",
    "\n",
    "a3.set_xlabel(r'$(V-I)$')\n",
    "a3.tick_params(direction='in', which='both')\n",
    "a3.minorticks_on()\n",
    "a3.set_xticks([0.5, 1.0, 1.5, 2, 2.5])"
   ]
  },
  {
   "cell_type": "code",
   "execution_count": 20,
   "metadata": {},
   "outputs": [],
   "source": [
    "plt.savefig('plots/spectroscopic_completeness.eps', dpi=300)"
   ]
  },
  {
   "cell_type": "code",
   "execution_count": null,
   "metadata": {},
   "outputs": [],
   "source": []
  },
  {
   "cell_type": "code",
   "execution_count": null,
   "metadata": {},
   "outputs": [],
   "source": []
  }
 ],
 "metadata": {
  "kernelspec": {
   "display_name": "Python 3",
   "language": "python",
   "name": "python3"
  },
  "language_info": {
   "codemirror_mode": {
    "name": "ipython",
    "version": 3
   },
   "file_extension": ".py",
   "mimetype": "text/x-python",
   "name": "python",
   "nbconvert_exporter": "python",
   "pygments_lexer": "ipython3",
   "version": "3.6.4"
  }
 },
 "nbformat": 4,
 "nbformat_minor": 2
}
