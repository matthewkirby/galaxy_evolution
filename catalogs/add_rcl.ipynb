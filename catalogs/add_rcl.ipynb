{
 "cells": [
  {
   "cell_type": "code",
   "execution_count": 1,
   "metadata": {},
   "outputs": [],
   "source": [
    "import sys\n",
    "sys.path.append('../just2017plots')\n",
    "import numpy as np\n",
    "from astropy.table import Table, vstack, Column\n",
    "from astropy import units as u\n",
    "from astropy.coordinates import SkyCoord\n",
    "import matplotlib.pyplot as plt\n",
    "import plotting_resources as res"
   ]
  },
  {
   "cell_type": "code",
   "execution_count": 2,
   "metadata": {},
   "outputs": [],
   "source": [
    "slitcat = Table().read('../catalogs/personal_catalogs/slits_phot_zs_cutonslitdist.csv', format='csv')\n",
    "cllist = res.load_clusters()"
   ]
  },
  {
   "cell_type": "markdown",
   "metadata": {},
   "source": [
    "## For each cluster, calculate $\\theta_{cl}$"
   ]
  },
  {
   "cell_type": "code",
   "execution_count": 3,
   "metadata": {},
   "outputs": [
    {
     "name": "stdout",
     "output_type": "stream",
     "text": [
      "skipping cl1037.9-1243a\n",
      "skipping cl1103.7-1245b\n",
      "skipping cl1227.9-1138a\n",
      "skipping cl1301.7-1139a\n",
      "skipping cl1354.2-1230a\n"
     ]
    }
   ],
   "source": [
    "final_table = Table()\n",
    "for cl in cllist:\n",
    "    if not cl['count']:\n",
    "        print('skipping {}'.format(cl['papername']))\n",
    "        continue\n",
    "    subcat = slitcat[np.where(slitcat['field'] == cl['tablename'])]\n",
    "    center = SkyCoord(cl['ra']*u.degree, cl['dec']*u.degree)\n",
    "    objs = SkyCoord(subcat['ra']*u.degree, subcat['dec']*u.degree)\n",
    "    subcat['theta_cl_radian'] = center.separation(objs).radian\n",
    "    subcat['d_cl_mpc'] = subcat['theta_cl_radian']*cl['D_A']\n",
    "    \n",
    "    final_table = vstack([final_table, subcat])"
   ]
  },
  {
   "cell_type": "code",
   "execution_count": 4,
   "metadata": {},
   "outputs": [
    {
     "data": {
      "image/png": "[encoded data removed]",
      "text/plain": [
       "<matplotlib.figure.Figure at 0x15183b0cf8>"
      ]
     },
     "metadata": {},
     "output_type": "display_data"
    }
   ],
   "source": [
    "plt.plot(final_table['ra'], final_table['dec'], '.k')\n",
    "plt.plot(cl['ra'], cl['dec'], 'rx')\n",
    "c200 = plt.Circle((cl['ra'], cl['dec']), radius=(cl['r200']/cl['D_A'])*(180./np.pi), ec='r', fc='none');\n",
    "cinfall = plt.Circle((cl['ra'], cl['dec']), radius = (cl['rinfall']/cl['D_A'])*(180./np.pi), ec='r', fc='none');\n",
    "plt.gca().add_artist(c200);\n",
    "plt.gca().add_artist(cinfall);"
   ]
  },
  {
   "cell_type": "code",
   "execution_count": 5,
   "metadata": {},
   "outputs": [],
   "source": [
    "final_table.write('personal_catalogs/slits_phot_zs_cutonslitdist_rcl.csv', format='csv', overwrite=True)"
   ]
  },
  {
   "cell_type": "code",
   "execution_count": null,
   "metadata": {},
   "outputs": [],
   "source": []
  }
 ],
 "metadata": {
  "kernelspec": {
   "display_name": "Python 3",
   "language": "python",
   "name": "python3"
  },
  "language_info": {
   "codemirror_mode": {
    "name": "ipython",
    "version": 3
   },
   "file_extension": ".py",
   "mimetype": "text/x-python",
   "name": "python",
   "nbconvert_exporter": "python",
   "pygments_lexer": "ipython3",
   "version": "3.6.4"
  }
 },
 "nbformat": 4,
 "nbformat_minor": 2
}
