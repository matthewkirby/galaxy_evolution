{
 "cells": [
  {
   "cell_type": "code",
   "execution_count": 130,
   "metadata": {},
   "outputs": [],
   "source": [
    "import numpy as np\n",
    "import sys\n",
    "sys.path.append('../just2017plots')\n",
    "import plotting_resources as res\n",
    "from astropy.table import Table, vstack, join\n",
    "\n",
    "rauto_cut = 22.9"
   ]
  },
  {
   "cell_type": "code",
   "execution_count": 131,
   "metadata": {},
   "outputs": [],
   "source": [
    "slitcat = Table().read('../catalogs/personal_catalogs/slits_phot_zs_cutonslitdist_rcl.csv', format='csv')\n",
    "speccat = slitcat[np.where((slitcat['slit_distance'] < 1.0) &\n",
    "                           (slitcat['zSpec'] > 0.0) & \n",
    "                           (slitcat['zSpec_Q'] == 1))]\n",
    "cllist = res.load_clusters()\n",
    "rfmags = Table().read('../catalogs/eazy_colors/ediscs_zldp_zfors_EAzY_outputs.csv', format='csv')\n",
    "rfmags.rename_column('id', 'ids')"
   ]
  },
  {
   "cell_type": "markdown",
   "metadata": {},
   "source": [
    "# Add the relevant Rest Frame colors to the object catalog\n",
    "MAG_AB_rfB, MAG_AB_rfU"
   ]
  },
  {
   "cell_type": "code",
   "execution_count": 132,
   "metadata": {},
   "outputs": [],
   "source": [
    "fulltable = join(speccat, rfmags['ids','MAG_AB_rfB', 'MAG_AB_rfU'], keys='ids', join_type='left')\n",
    "fulltable['UB_color'] = fulltable['MAG_AB_rfU'] - fulltable['MAG_AB_rfB']"
   ]
  },
  {
   "cell_type": "markdown",
   "metadata": {},
   "source": [
    "# Recast spec_type as an integer, clean up bad things to be 0"
   ]
  },
  {
   "cell_type": "code",
   "execution_count": 142,
   "metadata": {},
   "outputs": [
    {
     "name": "stdout",
     "output_type": "stream",
     "text": [
      "{'1', '0', '3', '4', '2'}\n"
     ]
    }
   ],
   "source": [
    "print(set(fulltable['spec_type']))"
   ]
  },
  {
   "cell_type": "code",
   "execution_count": 150,
   "metadata": {
    "scrolled": true
   },
   "outputs": [],
   "source": [
    "for row in fulltable:\n",
    "    if len(row['spec_type']) > 1:\n",
    "        row['spec_type'] = '0'\n",
    "\n",
    "fulltable['spec_type_int'] = [int(s) for s in fulltable['spec_type']]\n",
    "cmrspec1 = fulltable[np.where(fulltable['spec_type_int'] == 1)]\n",
    "cmrspec2 = fulltable[np.where(fulltable['spec_type_int'] == 2)]\n",
    "cmrspec = vstack((cmrspec1, cmrspec2))"
   ]
  },
  {
   "cell_type": "code",
   "execution_count": 151,
   "metadata": {},
   "outputs": [
    {
     "name": "stdout",
     "output_type": "stream",
     "text": [
      "['field', 'ids', 'ra', 'dec', 'x', 'y', 'B1', 'V1', 'R1', 'I1', 'z1', 'B2', 'V2', 'R2', 'I2', 'z2', 'B3', 'V3', 'R3', 'I3', 'z3', 'Bauto', 'Vauto', 'Rauto', 'Iauto', 'zauto', 'zLDP5_7', 'Q5_7', 'zphot', 'zphot_errUP', 'zphot_errLO', 'class_StarR', 'zLDP', 'zLDPerr', 'Q', 'zLDP_good', 'slit_distance', 'zSpec', 'zSpec_Q', 'spec_type', 'theta_cl_radian', 'd_cl_mpc', 'MAG_AB_rfB', 'MAG_AB_rfU', 'UB_color', 'spec_type_int']\n"
     ]
    }
   ],
   "source": [
    "print(cmrspec.colnames)"
   ]
  },
  {
   "cell_type": "markdown",
   "metadata": {},
   "source": [
    "# Loop over clusters and find the CMR using the average U-B of members"
   ]
  },
  {
   "cell_type": "code",
   "execution_count": 154,
   "metadata": {},
   "outputs": [
    {
     "name": "stdout",
     "output_type": "stream",
     "text": [
      "24\n",
      "8\n",
      "11\n",
      "15\n",
      "14\n",
      "10\n",
      "18\n",
      "11\n",
      "15\n",
      "24\n",
      "16\n",
      "9\n",
      "8\n",
      "12\n",
      "22\n",
      "5\n",
      "8\n",
      "10\n",
      "6\n",
      "11\n",
      "16\n"
     ]
    }
   ],
   "source": [
    "for cl in cllist:\n",
    "    #objs = cmrspec[np.where((cmrspec['field'] == cl['tablename']) &\n",
    "    #                        (abs(cmrspec['zSpec']-cl['z']) < 0.02))]\n",
    "    objs = cmrspec[np.where((abs(cmrspec['zSpec']-cl['z']) < 0.02))]\n",
    "    cl['cmr'] = np.mean(objs['UB_color'])\n",
    "    print(len(objs))\n",
    "\n",
    "with open('personal_catalogs/cluster_cmr.dat', 'w') as fout:\n",
    "    fout.write('papername, cmr\\n')\n",
    "    for cl in cllist:\n",
    "        fout.write('{}, {}\\n'.format(cl['papername'], cl['cmr']))"
   ]
  },
  {
   "cell_type": "code",
   "execution_count": null,
   "metadata": {},
   "outputs": [],
   "source": []
  }
 ],
 "metadata": {
  "kernelspec": {
   "display_name": "Python 3",
   "language": "python",
   "name": "python3"
  },
  "language_info": {
   "codemirror_mode": {
    "name": "ipython",
    "version": 3
   },
   "file_extension": ".py",
   "mimetype": "text/x-python",
   "name": "python",
   "nbconvert_exporter": "python",
   "pygments_lexer": "ipython3",
   "version": "3.6.4"
  }
 },
 "nbformat": 4,
 "nbformat_minor": 2
}
