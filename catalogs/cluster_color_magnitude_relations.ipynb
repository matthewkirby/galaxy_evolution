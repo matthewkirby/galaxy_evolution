{
 "cells": [
  {
   "cell_type": "code",
   "execution_count": 1,
   "metadata": {},
   "outputs": [],
   "source": [
    "import numpy as np\n",
    "import sys\n",
    "sys.path.append('../just2017plots')\n",
    "import plotting_resources as res\n",
    "from astropy.table import Table, vstack, join\n",
    "\n",
    "rauto_cut = 22.9"
   ]
  },
  {
   "cell_type": "code",
   "execution_count": 2,
   "metadata": {},
   "outputs": [
    {
     "name": "stdout",
     "output_type": "stream",
     "text": [
      "FAILED TO LOAD CLUSTER CMR\n"
     ]
    }
   ],
   "source": [
    "slitcat = Table().read('../catalogs/personal_catalogs/slits_phot_zs_cutonslitdist.csv', format='csv')\n",
    "speccat = slitcat[np.where((slitcat['slit_distance'] < 1.0) &\n",
    "                           (slitcat['zSpec'] > 0.0) & \n",
    "                           (slitcat['zSpec_Q'] == 1))]\n",
    "cllist = res.load_clusters()\n",
    "rfmags = Table().read('../catalogs/eazy_colors/ediscs_zldp_zfors_EAzY_outputs.csv', format='csv')\n",
    "rfmags.rename_column('id', 'ids')\n",
    "\n"
   ]
  },
  {
   "cell_type": "markdown",
   "metadata": {},
   "source": [
    "# Add the relevant Rest Frame colors to the object catalog\n",
    "MAG_AB_rfB, MAG_AB_rfU"
   ]
  },
  {
   "cell_type": "code",
   "execution_count": 3,
   "metadata": {},
   "outputs": [],
   "source": [
    "fulltable = join(speccat, rfmags['ids','MAG_AB_rfB', 'MAG_AB_rfU'], keys='ids', join_type='left')\n",
    "fulltable['UB_color'] = fulltable['MAG_AB_rfU'] - fulltable['MAG_AB_rfB']"
   ]
  },
  {
   "cell_type": "markdown",
   "metadata": {},
   "source": [
    "# Recast spec_type as an integer, clean up bad things to be 0"
   ]
  },
  {
   "cell_type": "code",
   "execution_count": 4,
   "metadata": {},
   "outputs": [
    {
     "name": "stdout",
     "output_type": "stream",
     "text": [
      "{'4!!', '1/2', '2/3', '?', '4', '-', '4:', '2:', '1:', '2', '-1', '3/4', '3', '1'}\n"
     ]
    }
   ],
   "source": [
    "print(set(fulltable['spec_type']))"
   ]
  },
  {
   "cell_type": "code",
   "execution_count": 5,
   "metadata": {
    "scrolled": true
   },
   "outputs": [],
   "source": [
    "for row in fulltable:\n",
    "    if row['spec_type'] == '1/2':\n",
    "        row['spec_type'] = np.random.choice(['1','2'])\n",
    "    elif row['spec_type'] == '2/3':\n",
    "        row['spec_type'] = np.random.choice(['2','3'])\n",
    "    elif row['spec_type'] == '3/4':\n",
    "        row['spec_type'] = np.random.choice(['3','4'])\n",
    "    if row['spec_type'][-1] in [':', '!']:\n",
    "        row['spec_type'] = row['spec_type'][0]\n",
    "    if row['spec_type'] in ['-', '?']:\n",
    "        row['spec_type'] = '-1'\n",
    "    \n",
    "\n",
    "fulltable['spec_type_int'] = [int(s) for s in fulltable['spec_type']]\n",
    "cleanest = fulltable[np.where(fulltable['spec_type_int'] == 1)]\n",
    "tinybitofOII = fulltable[np.where(fulltable['spec_type_int'] == 2)]\n",
    "secondpass = vstack((cleanest, tinybitofOII))\n",
    "\n"
   ]
  },
  {
   "cell_type": "code",
   "execution_count": 6,
   "metadata": {},
   "outputs": [
    {
     "name": "stdout",
     "output_type": "stream",
     "text": [
      "['field', 'ids', 'ra', 'dec', 'x', 'y', 'B1', 'V1', 'R1', 'I1', 'z1', 'B2', 'V2', 'R2', 'I2', 'z2', 'B3', 'V3', 'R3', 'I3', 'z3', 'Bauto', 'Vauto', 'Rauto', 'Iauto', 'zauto', 'zLDP5_7', 'Q5_7', 'zphot', 'zphot_errUP', 'zphot_errLO', 'class_StarR', 'zLDP', 'zLDPerr', 'Q', 'zLDP_good', 'slit_distance', 'zSpec', 'zSpec_Q', 'spec_type', 'MAG_AB_rfB', 'MAG_AB_rfU', 'UB_color', 'spec_type_int']\n"
     ]
    }
   ],
   "source": [
    "print(cleanest.colnames)"
   ]
  },
  {
   "cell_type": "code",
   "execution_count": 15,
   "metadata": {},
   "outputs": [],
   "source": [
    "cmrspec = secondpass"
   ]
  },
  {
   "cell_type": "markdown",
   "metadata": {},
   "source": [
    "# Loop over clusters and find the CMR using the average U-B of members"
   ]
  },
  {
   "cell_type": "code",
   "execution_count": 20,
   "metadata": {
    "scrolled": false
   },
   "outputs": [
    {
     "name": "stdout",
     "output_type": "stream",
     "text": [
      "cl1018.8-1211 8 1.4303881346720937\n",
      "cl1037.9-1243 1 1.2487573069907079\n",
      "cl1037.9-1243a 8 1.034748571792972\n",
      "cl1040.7-1155 4 1.2815884268983915\n",
      "cl1054.4-1146 8 1.2435022758978085\n",
      "cl1054.7-1245 9 1.3053454371905606\n",
      "cl1059.2-1253 7 1.4456950229092957\n",
      "cl1103.7-1245a 4 1.1420429563870904\n",
      "cl1103.7-1245b 0 nan\n",
      "cl1138.2-1133 0 nan\n",
      "cl1216.8-1201 10 1.16186986478182\n",
      "cl1227.9-1138 3 1.0367133886291395\n",
      "cl1227.9-1138a 0 nan\n",
      "cl1232.5-1250 10 1.3689413574878948\n",
      "cl1301.7-1139 3 1.4204385690600556\n",
      "cl1301.7-1139a 2 1.1539478270308479\n",
      "cl1353.0-1137 3 1.161745397271415\n",
      "cl1354.2-1230 1 1.3843587670620465\n",
      "cl1354.2-1230a 3 1.0424391739086214\n",
      "cl1411.1-1148 4 1.222310591410868\n",
      "cl1420.3-1236 4 1.2071521779241117\n"
     ]
    },
    {
     "name": "stderr",
     "output_type": "stream",
     "text": [
      "/Users/matthewkirby/anaconda3/lib/python3.6/site-packages/astropy/table/column.py:932: UserWarning: Warning: converting a masked element to nan.\n",
      "  self.data[index] = value\n"
     ]
    }
   ],
   "source": [
    "cllist['cmr'] = np.zeros(len(cllist))\n",
    "for cl in cllist:\n",
    "    objs = cmrspec[np.where((cmrspec['field'] == cl['tablename']) &\n",
    "                            (abs(cmrspec['zSpec']-cl['z']) < 0.02))]\n",
    "    #objs = cleanest[np.where((abs(cleanest['zSpec']-cl['z']) < 0.02))]\n",
    "    cl['cmr'] = np.mean(objs['UB_color'])\n",
    "    print(cl['papername'], len(objs), cl['cmr'])\n",
    "\n",
    "#with open('personal_catalogs/cluster_cmr.dat', 'w') as fout:\n",
    "#    fout.write('papername, cmr\\n')\n",
    "#    for cl in cllist:\n",
    "#        fout.write('{}, {}\\n'.format(cl['papername'], cl['cmr']))"
   ]
  },
  {
   "cell_type": "code",
   "execution_count": 24,
   "metadata": {},
   "outputs": [
    {
     "name": "stdout",
     "output_type": "stream",
     "text": [
      "cl1018.8-1211 8 1.4303881346720937\n",
      "cl1037.9-1243 4 0.845671557635657\n",
      "cl1037.9-1243a 8 1.034748571792972\n",
      "cl1040.7-1155 4 1.2815884268983915\n",
      "cl1054.4-1146 8 1.2435022758978085\n",
      "cl1054.7-1245 9 1.3053454371905606\n",
      "cl1059.2-1253 7 1.4456950229092957\n",
      "cl1103.7-1245a 4 1.1420429563870904\n",
      "cl1103.7-1245b 4 0.637444426458126\n",
      "cl1138.2-1133 6 0.5605398800056426\n",
      "cl1216.8-1201 10 1.16186986478182\n",
      "cl1227.9-1138 3 1.0367133886291395\n",
      "cl1227.9-1138a 3 0.7235132488395392\n",
      "cl1232.5-1250 10 1.3689413574878948\n",
      "cl1301.7-1139 3 1.4204385690600556\n",
      "cl1301.7-1139a 3 1.0022101222845592\n",
      "cl1353.0-1137 3 1.161745397271415\n",
      "cl1354.2-1230 5 0.9881737877601345\n",
      "cl1354.2-1230a 3 1.0424391739086214\n",
      "cl1411.1-1148 4 1.222310591410868\n",
      "cl1420.3-1236 4 1.2071521779241117\n"
     ]
    }
   ],
   "source": [
    "cllist['cmr'] = np.zeros(len(cllist))\n",
    "for cl in cllist:\n",
    "    allobjs = fulltable[np.where((fulltable['field'] == cl['tablename']) &\n",
    "                                 (abs(fulltable['zSpec']-cl['z']) < 0.02))]\n",
    "\n",
    "    # Try cleanest\n",
    "    for stype in [2,3,4]:\n",
    "        objs = allobjs[np.where(allobjs['spec_type_int'] <= stype)]\n",
    "        if len(objs) > 2:\n",
    "            break\n",
    "    \n",
    "    cl['cmr'] = np.mean(objs['UB_color'])\n",
    "    print(cl['papername'], len(objs), cl['cmr'])\n",
    "\n",
    "with open('personal_catalogs/cluster_cmr.dat', 'w') as fout:\n",
    "    fout.write('papername, cmr\\n')\n",
    "    for cl in cllist:\n",
    "        fout.write('{}, {}\\n'.format(cl['papername'], cl['cmr']))"
   ]
  },
  {
   "cell_type": "code",
   "execution_count": 95,
   "metadata": {
    "scrolled": false
   },
   "outputs": [
    {
     "name": "stderr",
     "output_type": "stream",
     "text": [
      "/Users/matthewkirby/anaconda3/lib/python3.6/site-packages/astropy/table/column.py:932: UserWarning: Warning: converting a masked element to nan.\n",
      "  self.data[index] = value\n"
     ]
    },
    {
     "name": "stdout",
     "output_type": "stream",
     "text": [
      "Old strat for cl1054.4-1146\n",
      "Old strat for cl1232.5-1250\n"
     ]
    }
   ],
   "source": [
    "import matplotlib.pyplot as plt\n",
    "from sklearn.cluster import KMeans\n",
    "cllist['cmr'] = np.zeros(len(cllist))\n",
    "kmeans = KMeans(n_clusters=2)\n",
    "\n",
    "ldpcat = slitcat[np.where((slitcat['Rauto'] < rauto_cut) & \n",
    "                          (slitcat['Q'] >= 4) & \n",
    "                          (slitcat['slit_distance'] < 1.0))]\n",
    "ldpcat = join(ldpcat, rfmags['ids','MAG_AB_rfB', 'MAG_AB_rfU'], keys='ids', join_type='left')\n",
    "ldpcat['UB_color'] = ldpcat['MAG_AB_rfU'] - ldpcat['MAG_AB_rfB']\n",
    "\n",
    "for cl in cllist:\n",
    "    allobjs = ldpcat[np.where((ldpcat['field'] == cl['tablename']) &\n",
    "                                 (abs(ldpcat['zLDP']-cl['z']) < 0.02))]\n",
    "    data_to_fit = np.vstack((np.zeros(len(allobjs)), allobjs['UB_color'].data.data)).transpose()\n",
    "    kmeans.fit(data_to_fit)\n",
    "    m1 = np.mean(allobjs[np.where(kmeans.labels_)]['UB_color'])\n",
    "    m2 = np.mean(allobjs[np.where(kmeans.labels_*-1 + 1)]['UB_color'])\n",
    "    cl['cmr'] = max(m1, m2)\n",
    "\n",
    "    # If KMeans didn't work, use the old strat\n",
    "    if np.sum(kmeans.labels_) < 3.0:\n",
    "        print(\"Old strat for {}\".format(cl['papername']))\n",
    "        allobjs = fulltable[np.where((fulltable['field'] == cl['tablename']) &\n",
    "                                 (abs(fulltable['zSpec']-cl['z']) < 0.02))]\n",
    "        for stype in [1,3,4]:\n",
    "            objs = allobjs[np.where(allobjs['spec_type_int'] <= stype)]\n",
    "            if len(objs) > 5:\n",
    "                break\n",
    "        cl['cmr'] = np.mean(objs['UB_color'])\n",
    "\n",
    "    \n",
    "with open('personal_catalogs/cluster_cmr.dat', 'w') as fout:\n",
    "    fout.write('papername, cmr\\n')\n",
    "    for cl in cllist:\n",
    "        fout.write('{}, {}\\n'.format(cl['papername'], cl['cmr']))"
   ]
  },
  {
   "cell_type": "code",
   "execution_count": null,
   "metadata": {},
   "outputs": [],
   "source": []
  }
 ],
 "metadata": {
  "kernelspec": {
   "display_name": "Python 3",
   "language": "python",
   "name": "python3"
  },
  "language_info": {
   "codemirror_mode": {
    "name": "ipython",
    "version": 3
   },
   "file_extension": ".py",
   "mimetype": "text/x-python",
   "name": "python",
   "nbconvert_exporter": "python",
   "pygments_lexer": "ipython3",
   "version": "3.6.4"
  }
 },
 "nbformat": 4,
 "nbformat_minor": 2
}
