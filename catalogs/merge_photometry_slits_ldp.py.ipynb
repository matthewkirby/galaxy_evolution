{
 "cells": [
  {
   "cell_type": "code",
   "execution_count": 1,
   "metadata": {},
   "outputs": [],
   "source": [
    "import numpy as np\n",
    "from astropy.table import Table, vstack\n",
    "from astropy.coordinates import SkyCoord\n",
    "from astropy import units as u\n",
    "import bisect as bs"
   ]
  },
  {
   "cell_type": "markdown",
   "metadata": {},
   "source": [
    "# 40054 zLDPs, lets see how many slits there are\n"
   ]
  },
  {
   "cell_type": "code",
   "execution_count": 2,
   "metadata": {},
   "outputs": [],
   "source": [
    "macrofnamelist = 'slit_masks_dj/slit_file_list.dat'\n",
    "with open(macrofnamelist, 'r') as fin:\n",
    "    fnames = fin.readlines()\n",
    "fnames = [f_.split()[0] for f_ in fnames]"
   ]
  },
  {
   "cell_type": "code",
   "execution_count": 3,
   "metadata": {},
   "outputs": [
    {
     "name": "stdout",
     "output_type": "stream",
     "text": [
      "67185\n"
     ]
    }
   ],
   "source": [
    "slit_mask = Table.read('slit_masks_dj/' + fnames[0], format='ascii')\n",
    "for fname in fnames[1:]:\n",
    "    temp_table = Table.read('slit_masks_dj/' + fname, format='ascii')\n",
    "    slit_mask = vstack([slit_mask, temp_table])\n",
    "print(len(slit_mask))"
   ]
  },
  {
   "cell_type": "markdown",
   "metadata": {},
   "source": [
    "# Load the photometry catalog"
   ]
  },
  {
   "cell_type": "code",
   "execution_count": 4,
   "metadata": {},
   "outputs": [],
   "source": [
    "photcat = Table().read('personal_catalogs/megacat.fits')\n",
    "\n",
    "photcat['zLDP'] = -1.\n",
    "photcat['zLDPerr'] = -1.\n",
    "photcat['Q'] = -1\n",
    "photcat['zLDP_good'] = -1\n",
    "photcat['slit_distance'] = -1.\n",
    "photcat['zSpec'] = -1.\n",
    "photcat['zSpec_Q'] = -1.\n",
    "photcat['spec_type'] = ''\n",
    "photcat['found_slit'] = 0\n",
    "\n",
    "photcat['zLDP'].mask = True\n",
    "photcat['zLDPerr'].mask = True\n",
    "photcat['Q'].mask = True\n",
    "photcat['zLDP_good'].mask = True\n",
    "photcat['slit_distance'].mask = True\n",
    "photcat['zSpec'].mask = True\n",
    "photcat['zSpec_Q'].mask = True\n",
    "photcat['spec_type'].mask = True\n",
    "\n",
    "photcat.sort('ra')\n",
    "photcat['uid'] = np.arange(0, len(photcat['ra']), 1)"
   ]
  },
  {
   "cell_type": "code",
   "execution_count": 5,
   "metadata": {},
   "outputs": [
    {
     "name": "stdout",
     "output_type": "stream",
     "text": [
      "['field', 'ids', 'ra', 'dec', 'x', 'y', 'ebv', 'fwhmR', 'fB1', 'fB1err', 'fB2', 'fB2err', 'fB3', 'fB3err', 'fBiso', 'fBisoerr', 'fBauto', 'fBautoerr', 'fV1', 'fV1err', 'fV2', 'fV2err', 'fV3', 'fV3err', 'fViso', 'fVisoerr', 'fVauto', 'fVautoerr', 'fR1', 'fR1err', 'fR2', 'fR2err', 'fR3', 'fR3err', 'fRiso', 'fRisoerr', 'fRauto', 'fRautoerr', 'fI1', 'fI1err', 'fI2', 'fI2err', 'fI3', 'fI3err', 'fIiso', 'fIisoerr', 'fIauto', 'fIautoerr', 'fz1', 'fz1err', 'fz2', 'fz2err', 'fz3', 'fz3err', 'fziso', 'fzisoerr', 'fzauto', 'fzautoerr', 'fK1', 'fK1err', 'fK2', 'fK2err', 'fK3', 'fK3err', 'fKiso', 'fKisoerr', 'fKauto', 'fKautoerr', 'zLDP5_7', 'Q5_7', 'zphot', 'zphot_errUP', 'zphot_errLO', 'class_StarR', 'iso_area', 'major_ax', 'minor_ax', 'theta', 'sexflagB', 'sexflagV', 'sexflagR', 'sexflagI', 'sexflagz', 'sexflagK', 'wK', 'zLDP', 'zLDPerr', 'Q', 'zLDP_good', 'slit_distance', 'zSpec', 'zSpec_Q', 'spec_type', 'found_slit', 'uid']\n"
     ]
    }
   ],
   "source": [
    "print(photcat.colnames)"
   ]
  },
  {
   "cell_type": "markdown",
   "metadata": {},
   "source": [
    "# For each slit, find the photometry entry."
   ]
  },
  {
   "cell_type": "code",
   "execution_count": 6,
   "metadata": {},
   "outputs": [],
   "source": [
    "slit_coords = SkyCoord(ra=slit_mask['ra']*u.degree, dec=slit_mask['dec']*u.degree)\n",
    "phot_coords = SkyCoord(ra=photcat['ra']*u.degree, dec=photcat['dec']*u.degree)"
   ]
  },
  {
   "cell_type": "code",
   "execution_count": 7,
   "metadata": {},
   "outputs": [],
   "source": [
    "# the nth element of idx is in the index in phot_coords that best matches the nth element in slit_coords\n",
    "idx, d2d, d3d = slit_coords.match_to_catalog_sky(phot_coords)"
   ]
  },
  {
   "cell_type": "code",
   "execution_count": 8,
   "metadata": {},
   "outputs": [
    {
     "name": "stdout",
     "output_type": "stream",
     "text": [
      "Slits=67185\n",
      "Matched under 1\"=54836\n",
      "Unique matches=46953\n"
     ]
    }
   ],
   "source": [
    "print('Slits={}'.format(len(d2d)))\n",
    "print('Matched under 1\"={}'.format(len(d2d[np.where(d2d < 1.*u.arcsecond)])))\n",
    "print('Unique matches={}'.format(len(set(idx[np.where(d2d < 1.*u.arcsecond)]))))"
   ]
  },
  {
   "cell_type": "code",
   "execution_count": 9,
   "metadata": {},
   "outputs": [],
   "source": [
    "idx_lt1as = idx[np.where(d2d < 1.*u.arcsecond)]\n",
    "photcat['found_slit'][idx_lt1as] = 1"
   ]
  },
  {
   "cell_type": "code",
   "execution_count": 10,
   "metadata": {},
   "outputs": [
    {
     "name": "stdout",
     "output_type": "stream",
     "text": [
      "Num of obj on slits = 46953\n"
     ]
    }
   ],
   "source": [
    "print(\"Num of obj on slits = {}\".format(np.sum(photcat['found_slit'])))"
   ]
  },
  {
   "cell_type": "markdown",
   "metadata": {},
   "source": [
    "# Load the LDP data and compare to photometry"
   ]
  },
  {
   "cell_type": "code",
   "execution_count": 11,
   "metadata": {},
   "outputs": [],
   "source": [
    "primus_table = Table().read('personal_catalogs/primus_fors2.csv', format='csv')"
   ]
  },
  {
   "cell_type": "code",
   "execution_count": 12,
   "metadata": {},
   "outputs": [
    {
     "name": "stdout",
     "output_type": "stream",
     "text": [
      "['ra', 'dec', 'zLDP', 'zLDPerr', 'Q', 'zLDP_good', 'ra_slit', 'dec_slit', 'slit_distance', 'uid', 'zSpec', 'zSpec_quality', 'spec_type', 'zspec_dist_asec']\n",
      "54131\n"
     ]
    }
   ],
   "source": [
    "print(primus_table.colnames)\n",
    "print(len(primus_table))"
   ]
  },
  {
   "cell_type": "code",
   "execution_count": 13,
   "metadata": {},
   "outputs": [],
   "source": [
    "ldp_coords = SkyCoord(ra=primus_table['ra_slit']*u.degree, dec=primus_table['dec_slit']*u.degree)"
   ]
  },
  {
   "cell_type": "code",
   "execution_count": 14,
   "metadata": {},
   "outputs": [],
   "source": [
    "# Non-vectorized method\n",
    "# The nth element of ldpidx is the index of phot_coords that best matches the nth element of ldp_coords\n",
    "#ldpidx, ldpd2d, idxd3d = ldp_coords.match_to_catalog_sky(phot_coords)\n",
    "ldpidx, ldpd2d, ldpd3d = phot_coords.match_to_catalog_sky(ldp_coords)\n",
    "# Only keep matches when slit-obj sep is less than 1 arcsecond\n",
    "#close_ldpidx = ldpidx[np.where(ldpd2d < 1.*u.arcsecond)[0]]\n",
    "#close_primus_table = primus_table[np.where(ldpd2d < 1.*u.arcsecond)[0]]"
   ]
  },
  {
   "cell_type": "code",
   "execution_count": 15,
   "metadata": {},
   "outputs": [],
   "source": [
    "photcat['slit_distance'] = ldpd2d.arcsecond\n",
    "photcat['zLDP'] = primus_table['zLDP'][ldpidx]\n",
    "photcat['zLDPerr'] = primus_table['zLDPerr'][ldpidx]\n",
    "photcat['Q'] = primus_table['Q'][ldpidx]\n",
    "photcat['zLDP_good'] = primus_table['zLDP_good'][ldpidx]\n",
    "photcat['zSpec'] = primus_table['zSpec'][ldpidx]\n",
    "photcat['zSpec_Q'] = primus_table['zSpec_quality'][ldpidx]\n",
    "photcat['spec_type'] = primus_table['spec_type'][ldpidx]"
   ]
  },
  {
   "cell_type": "code",
   "execution_count": 16,
   "metadata": {},
   "outputs": [],
   "source": [
    "# Non-vectorized method\n",
    "#def match_row(tphotcat, row, temp_id):\n",
    "#    tphotcat[temp_id]['zLDP'] = row['zLDP']\n",
    "#    tphotcat[temp_id]['zLDPerr'] = row['zLDPerr']\n",
    "#    tphotcat[temp_id]['Q'] = row['Q']\n",
    "#    tphotcat[temp_id]['zLDP_good'] = row['zLDP_good']\n",
    "#    tphotcat[temp_id]['slit_distance'] = row['slit_distance']\n",
    "#    tphotcat[temp_id]['zSpec'] = row['zSpec']\n",
    "#    tphotcat[temp_id]['zSpec_Q'] = row['zSpec_quality']\n",
    "#    return"
   ]
  },
  {
   "cell_type": "code",
   "execution_count": 17,
   "metadata": {},
   "outputs": [],
   "source": [
    "# Non-vectorized method\n",
    "#for ii in range(len(close_ldpidx)):\n",
    "#    match_row(photcat, close_primus_table[ii], close_ldpidx[ii])"
   ]
  },
  {
   "cell_type": "markdown",
   "metadata": {},
   "source": [
    "# Photcat now has LDP/Specz's within it and a flag if there was a slit placed upon it"
   ]
  },
  {
   "cell_type": "code",
   "execution_count": 18,
   "metadata": {},
   "outputs": [
    {
     "name": "stdout",
     "output_type": "stream",
     "text": [
      "46953\n"
     ]
    }
   ],
   "source": [
    "# Make a subtable only containing objects with slits placed upon them.\n",
    "subphot = photcat[np.where(photcat['found_slit'] == 1)[0]]\n",
    "print(len(subphot))"
   ]
  },
  {
   "cell_type": "markdown",
   "metadata": {},
   "source": [
    "# Calculate mags from fluxes"
   ]
  },
  {
   "cell_type": "code",
   "execution_count": 19,
   "metadata": {},
   "outputs": [],
   "source": [
    "def flux2mag(f):\n",
    "    return -2.5*np.log10(f) + 23.9\n",
    "\n",
    "def calc_mag(photo, filt):\n",
    "    flux = 'f'+filt\n",
    "    mag = flux2mag(photo[flux])\n",
    "    #mag = [flux2mag(f) for f in photo[flux]]\n",
    "    photo[filt] = mag\n",
    "    #photo[filt][np.isnan(mag)] = 101.\n",
    "    photo[filt].mask = np.isnan(mag)\n",
    "\n",
    "    return"
   ]
  },
  {
   "cell_type": "code",
   "execution_count": 20,
   "metadata": {},
   "outputs": [
    {
     "name": "stderr",
     "output_type": "stream",
     "text": [
      "/Users/matthewkirby/anaconda3/lib/python3.6/site-packages/ipykernel_launcher.py:2: RuntimeWarning: invalid value encountered in log10\n",
      "  \n"
     ]
    }
   ],
   "source": [
    "filterlist = ['B1', 'V1', 'R1', 'I1', 'z1',\n",
    "              'B2', 'V2', 'R2', 'I2', 'z2',\n",
    "              'B3', 'V3', 'R3', 'I3', 'z3',\n",
    "              'Bauto', 'Vauto', 'Rauto', 'Iauto', 'zauto']\n",
    "\n",
    "for filt in filterlist:\n",
    "    calc_mag(subphot, filt)"
   ]
  },
  {
   "cell_type": "code",
   "execution_count": 21,
   "metadata": {},
   "outputs": [],
   "source": [
    "final_table = subphot['field', 'ids', 'ra', 'dec', 'x', 'y',\n",
    "                          'B1', 'V1', 'R1', 'I1', 'z1',\n",
    "                          'B2', 'V2', 'R2', 'I2', 'z2',\n",
    "                          'B3', 'V3', 'R3', 'I3', 'z3',\n",
    "                          'Bauto', 'Vauto', 'Rauto', 'Iauto', 'zauto',\n",
    "                          'zLDP5_7', 'Q5_7', 'zphot', 'zphot_errUP', 'zphot_errLO', 'class_StarR',\n",
    "                          'zLDP', 'zLDPerr', 'Q', 'zLDP_good', 'slit_distance', 'zSpec', 'zSpec_Q', 'spec_type']"
   ]
  },
  {
   "cell_type": "code",
   "execution_count": null,
   "metadata": {},
   "outputs": [],
   "source": []
  },
  {
   "cell_type": "code",
   "execution_count": 22,
   "metadata": {},
   "outputs": [],
   "source": [
    "final_table.write('personal_catalogs/slits_phot_zs_cutonslitdist.csv', format='csv', overwrite=True)"
   ]
  },
  {
   "cell_type": "code",
   "execution_count": 23,
   "metadata": {},
   "outputs": [
    {
     "name": "stdout",
     "output_type": "stream",
     "text": [
      "46953\n",
      "18021\n"
     ]
    }
   ],
   "source": [
    "print(len(subphot))\n",
    "print(len(subphot[np.where((subphot['slit_distance'] < 1.0)&(subphot['Q']==4)&(subphot['Rauto']<22.9))]))"
   ]
  },
  {
   "cell_type": "code",
   "execution_count": null,
   "metadata": {},
   "outputs": [],
   "source": []
  }
 ],
 "metadata": {
  "kernelspec": {
   "display_name": "Python 3",
   "language": "python",
   "name": "python3"
  },
  "language_info": {
   "codemirror_mode": {
    "name": "ipython",
    "version": 3
   },
   "file_extension": ".py",
   "mimetype": "text/x-python",
   "name": "python",
   "nbconvert_exporter": "python",
   "pygments_lexer": "ipython3",
   "version": "3.6.4"
  }
 },
 "nbformat": 4,
 "nbformat_minor": 1
}
