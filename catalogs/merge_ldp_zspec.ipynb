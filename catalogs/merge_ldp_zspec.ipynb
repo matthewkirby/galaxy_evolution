{
 "cells": [
  {
   "cell_type": "code",
   "execution_count": 1,
   "metadata": {},
   "outputs": [],
   "source": [
    "from astropy.table import Table, vstack, MaskedColumn\n",
    "from astropy.io import fits\n",
    "from astropy.coordinates import SkyCoord\n",
    "import numpy as np\n",
    "import bisect as bs\n",
    "from astropy import units as u\n",
    "import matplotlib.pyplot as plt"
   ]
  },
  {
   "cell_type": "markdown",
   "metadata": {},
   "source": [
    "# Set up functions to load the data"
   ]
  },
  {
   "cell_type": "code",
   "execution_count": 2,
   "metadata": {},
   "outputs": [],
   "source": [
    "# Takes in a list of masks and returns an astropy table containing all of the primus outputs\n",
    "def load_primus_data(masklist):\n",
    "    primus_table = Table()\n",
    "    for mask in masklist:\n",
    "        catalog ='primus_catalogs/catalog_edsc0'+str(mask)+'.fits'\n",
    "\n",
    "        hdu = fits.getdata(catalog, ext=0, header=True)\n",
    "        ralist = hdu[0][0]\n",
    "        declist = hdu[0][1]\n",
    "        zlist = hdu[0][2]\n",
    "        zerr = hdu[0][3]\n",
    "        zconf = hdu[0][4]\n",
    "        zgood = hdu[0][5]\n",
    "        ra_spec = hdu[0][6]\n",
    "        dec_spec = hdu[0][7]\n",
    "\n",
    "        ttable = Table([ralist, declist, zlist, zerr, zconf, zgood, ra_spec, dec_spec],\n",
    "                       names=('ra', 'dec', 'zLDP', 'zLDPerr', 'Q', 'zLDP_good', 'ra_slit', 'dec_slit'))\n",
    "        primus_table = vstack([primus_table, ttable])\n",
    "\n",
    "    photpos = SkyCoord(ra=primus_table['ra']*u.degree, dec=primus_table['dec']*u.degree)\n",
    "    slitpos = SkyCoord(ra=primus_table['ra_slit']*u.degree, dec=primus_table['dec_slit']*u.degree)\n",
    "    primus_table['slit_distance'] = photpos.separation(slitpos).arcsecond\n",
    "\n",
    "    primus_table.sort('ra')\n",
    "    primus_table['uid'] = np.arange(0, len(primus_table['ra']), 1)\n",
    "    print(\"Done importing PRIMUS data\")\n",
    "    return primus_table"
   ]
  },
  {
   "cell_type": "code",
   "execution_count": 3,
   "metadata": {},
   "outputs": [],
   "source": [
    "def load_zspecs():\n",
    "    names, zspecs, zspecQs, spectype = np.genfromtxt('zspecs/all.zspec.dat', dtype=str, usecols=[0,1,2,5], unpack=True)\n",
    "    # Parse names into RA and DEC\n",
    "    zras, zdecs = [], []\n",
    "    for name in names:\n",
    "        tra = name[6:13]\n",
    "        tdec = name[13:]\n",
    "        tempra = \"%ih%im%i.%is\" % (int(tra[0:2]), int(tra[2:4]), int(tra[4:6]), int(tra[6:]))\n",
    "        tempdec = \"%sd%sm%s.%ss\" % (tdec[0:3], tdec[3:5], tdec[5:7], tdec[7:])\n",
    "        c = SkyCoord(tempra, tempdec, frame='icrs')\n",
    "\n",
    "        zras.append(c.ra.deg)\n",
    "        zdecs.append(c.dec.deg)\n",
    "    print(\"Done importing FORS2 data\")\n",
    "    return Table([zras, zdecs, zspecs.astype(float), zspecQs.astype(int), spectype],\n",
    "                 names=('ra', 'dec', 'zSpec', 'zSpec_quality', 'spec_type'))"
   ]
  },
  {
   "cell_type": "markdown",
   "metadata": {},
   "source": [
    "# Load the PRIMUS outputs"
   ]
  },
  {
   "cell_type": "code",
   "execution_count": 4,
   "metadata": {},
   "outputs": [],
   "source": [
    "# Make list of masks for PRIMUS catalogs\n",
    "masklist = np.arange(245, 281, 1).tolist()\n",
    "masklist.remove(249)\n",
    "masklist.remove(258)\n",
    "masklist.remove(267)"
   ]
  },
  {
   "cell_type": "code",
   "execution_count": 5,
   "metadata": {},
   "outputs": [
    {
     "name": "stdout",
     "output_type": "stream",
     "text": [
      "Done importing PRIMUS data\n"
     ]
    }
   ],
   "source": [
    "primus_table = load_primus_data(masklist)\n",
    "primus_table['zSpec'] = -1.\n",
    "primus_table['zSpec'].mask = True\n",
    "primus_table['zSpec_quality'] = -1\n",
    "primus_table['zSpec_quality'].mask = True\n",
    "primus_table['spec_type'] = ''\n",
    "primus_table['spec_type'].mask = True"
   ]
  },
  {
   "cell_type": "markdown",
   "metadata": {},
   "source": [
    "# Load the FORS2 zspec data"
   ]
  },
  {
   "cell_type": "code",
   "execution_count": 6,
   "metadata": {},
   "outputs": [
    {
     "name": "stdout",
     "output_type": "stream",
     "text": [
      "Done importing FORS2 data\n"
     ]
    },
    {
     "name": "stderr",
     "output_type": "stream",
     "text": [
      "WARNING: IllegalSecondWarning: 'second' was found  to be '60.0', which is not in range [0,60). Treating as 0 sec, +1 min [astropy.coordinates.angle_utilities]\n"
     ]
    }
   ],
   "source": [
    "zspec_table = load_zspecs()"
   ]
  },
  {
   "cell_type": "code",
   "execution_count": 7,
   "metadata": {},
   "outputs": [
    {
     "name": "stdout",
     "output_type": "stream",
     "text": [
      "['ra', 'dec', 'zSpec', 'zSpec_quality', 'spec_type']\n"
     ]
    }
   ],
   "source": [
    "print(zspec_table.colnames)"
   ]
  },
  {
   "cell_type": "markdown",
   "metadata": {},
   "source": [
    "# Match the two catalogs"
   ]
  },
  {
   "cell_type": "code",
   "execution_count": 8,
   "metadata": {},
   "outputs": [],
   "source": [
    "primus_coords = SkyCoord(ra=primus_table['ra']*u.degree, dec=primus_table['dec']*u.degree)\n",
    "zspec_coords = SkyCoord(ra=zspec_table['ra']*u.degree, dec=zspec_table['dec']*u.degree)\n",
    "pidx, pd2d, pd3d = primus_coords.match_to_catalog_sky(zspec_coords)"
   ]
  },
  {
   "cell_type": "code",
   "execution_count": 9,
   "metadata": {},
   "outputs": [],
   "source": [
    "primus_table['zSpec'] = zspec_table['zSpec'][pidx]\n",
    "primus_table['zSpec_quality'] = zspec_table['zSpec_quality'][pidx]\n",
    "primus_table['spec_type'] = zspec_table['spec_type'][pidx]\n",
    "primus_table['zspec_dist_asec'] = pd2d.arcsecond"
   ]
  },
  {
   "cell_type": "markdown",
   "metadata": {},
   "source": [
    "# Remask any entries with zspec_dist_asec > 1 as"
   ]
  },
  {
   "cell_type": "code",
   "execution_count": 10,
   "metadata": {},
   "outputs": [],
   "source": [
    "maskidx = np.where(primus_table['zspec_dist_asec'] > 1.0)\n",
    "primus_table['zSpec'][maskidx] = -1\n",
    "primus_table['zSpec_quality'][maskidx] = -1\n",
    "primus_table['spec_type'][maskidx] = ''"
   ]
  },
  {
   "cell_type": "code",
   "execution_count": 11,
   "metadata": {},
   "outputs": [
    {
     "name": "stdout",
     "output_type": "stream",
     "text": [
      "539\n"
     ]
    }
   ],
   "source": [
    "print(len(primus_table[np.where(primus_table['zSpec'] > 0.0)]))"
   ]
  },
  {
   "cell_type": "markdown",
   "metadata": {},
   "source": [
    "# Output the matched table"
   ]
  },
  {
   "cell_type": "code",
   "execution_count": 12,
   "metadata": {},
   "outputs": [],
   "source": [
    "primus_table.write('personal_catalogs/primus_fors2.csv', format='csv', overwrite=True)"
   ]
  },
  {
   "cell_type": "code",
   "execution_count": 13,
   "metadata": {},
   "outputs": [
    {
     "data": {
      "text/plain": [
       "['ra',\n",
       " 'dec',\n",
       " 'zLDP',\n",
       " 'zLDPerr',\n",
       " 'Q',\n",
       " 'zLDP_good',\n",
       " 'ra_slit',\n",
       " 'dec_slit',\n",
       " 'slit_distance',\n",
       " 'uid',\n",
       " 'zSpec',\n",
       " 'zSpec_quality',\n",
       " 'spec_type',\n",
       " 'zspec_dist_asec']"
      ]
     },
     "execution_count": 13,
     "metadata": {},
     "output_type": "execute_result"
    }
   ],
   "source": [
    "primus_table.colnames"
   ]
  },
  {
   "cell_type": "code",
   "execution_count": null,
   "metadata": {},
   "outputs": [],
   "source": []
  }
 ],
 "metadata": {
  "kernelspec": {
   "display_name": "Python 3",
   "language": "python",
   "name": "python3"
  },
  "language_info": {
   "codemirror_mode": {
    "name": "ipython",
    "version": 3
   },
   "file_extension": ".py",
   "mimetype": "text/x-python",
   "name": "python",
   "nbconvert_exporter": "python",
   "pygments_lexer": "ipython3",
   "version": "3.6.4"
  }
 },
 "nbformat": 4,
 "nbformat_minor": 2
}
