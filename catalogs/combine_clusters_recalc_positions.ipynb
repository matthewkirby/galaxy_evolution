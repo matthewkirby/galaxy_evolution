{
 "cells": [
  {
   "cell_type": "code",
   "execution_count": 2,
   "metadata": {},
   "outputs": [],
   "source": [
    "from astropy.table import Table, vstack\n",
    "import numpy as np\n",
    "import matplotlib.pyplot as plt\n",
    "from astropy.coordinates import SkyCoord\n",
    "from astropy import units as u\n",
    "import subprocess as sp\n",
    "import os"
   ]
  },
  {
   "cell_type": "code",
   "execution_count": 48,
   "metadata": {},
   "outputs": [],
   "source": [
    "xy2skypath = '/Users/matthewkirby/software/wcstools/wcstools-3.9.5/bin/xy2sky'\n",
    "megacat = Table()"
   ]
  },
  {
   "cell_type": "markdown",
   "metadata": {},
   "source": [
    "# Set up the list of clusters for looping"
   ]
  },
  {
   "cell_type": "code",
   "execution_count": 21,
   "metadata": {},
   "outputs": [],
   "source": [
    "def load_clusters():\n",
    "    with open('personal_catalogs/cluster_info.dat') as fin:\n",
    "        data = fin.readlines()[1:]\n",
    "\n",
    "    # Load the cluster data\n",
    "    data = [row.split() for row in data]\n",
    "    cllist = [{'tablename': row[1], 'papername': row[2],\n",
    "               'ra': float(row[3]), 'dec': float(row[4]), 'z': float(row[5]),\n",
    "               'r200': float(row[6]), 'sigma': float(row[7]), 'sigma_hi': float(row[8]),\n",
    "               'sigma_lo': float(row[9]), 'm200': float(row[10]), 'count': int(row[11]),\n",
    "               'rinfall': float(row[12]), 'D_A': float(row[13])}\n",
    "              for row in data]\n",
    "    cltable = Table(cllist)\n",
    "    \n",
    "    return cltable"
   ]
  },
  {
   "cell_type": "code",
   "execution_count": 22,
   "metadata": {},
   "outputs": [],
   "source": [
    "cltable = load_clusters()"
   ]
  },
  {
   "cell_type": "code",
   "execution_count": 58,
   "metadata": {},
   "outputs": [],
   "source": [
    "clnames = sorted(list(set([cltable['tablename'][i].lower() for i in range(len(cltable))])))\n",
    "catalog_names = ['ediscs_v7.0/{}_catalog_v7.0.fits'.format(name) for name in clnames]\n",
    "\n",
    "image_path = '../ediscs_r_images/rims/'\n",
    "image_names = np.array([image_path + '{}/{}_r_smooth.fits'.format(name, name) for name in clnames])\n",
    "image_names[np.where(image_names == '../ediscs_r_images/rims/cl1420/cl1420_r_smooth.fits')] = image_path + 'cl1420/cl1420_r.fits'\n",
    "image_names = image_names.tolist()"
   ]
  },
  {
   "cell_type": "markdown",
   "metadata": {},
   "source": [
    "# Loop over each cluster and recalculate the positions"
   ]
  },
  {
   "cell_type": "code",
   "execution_count": 72,
   "metadata": {},
   "outputs": [
    {
     "name": "stdout",
     "output_type": "stream",
     "text": [
      "Adding cluster cl1018\n",
      "Adding cluster cl1037\n",
      "Adding cluster cl1040\n",
      "Adding cluster cl1054-11\n",
      "Adding cluster cl1054-12\n",
      "Adding cluster cl1059\n",
      "Adding cluster cl1103\n",
      "Adding cluster cl1138\n",
      "Adding cluster cl1216\n",
      "Adding cluster cl1227\n",
      "Adding cluster cl1232\n",
      "Adding cluster cl1301\n",
      "Adding cluster cl1353\n",
      "Adding cluster cl1354\n",
      "Adding cluster cl1411\n",
      "Adding cluster cl1420\n"
     ]
    }
   ],
   "source": [
    "for catname, imname in zip(catalog_names, image_names):\n",
    "    # Ensure that the two files are matched correctly\n",
    "    print(\"Adding cluster {}\".format(catname.split('/')[-1].split('_')[0]))\n",
    "    if catname.split('/')[-1].split('_')[0] != imname.split('/')[-1].split('_')[0]:\n",
    "        print(\"Catalog and image are not for the same clusters!\")\n",
    "    \n",
    "    # Read in the catalog\n",
    "    subcat = Table().read(catname)\n",
    "\n",
    "    # Compute the RA and DEC using image wcs info\n",
    "    np.savetxt('dummy.foobar', np.c_[(subcat['x'], subcat['y'])])\n",
    "    sp.call('{} -d {} @dummy.foobar > dummy2.foobar 2>&1'.format(xy2skypath, imname), shell=True);\n",
    "    subcat['ra'], subcat['dec'] = np.loadtxt('dummy2.foobar', usecols = (0, 1), unpack = True)\n",
    "\n",
    "    # Remove the temporary files\n",
    "    os.remove('dummy.foobar')\n",
    "    os.remove('dummy2.foobar')\n",
    "    \n",
    "    # Throw it into the big catalog\n",
    "    megacat = vstack([megacat, subcat])"
   ]
  },
  {
   "cell_type": "code",
   "execution_count": 74,
   "metadata": {},
   "outputs": [],
   "source": [
    "megacat.write('personal_catalogs/megacat.fits', format='fits', overwrite=True)"
   ]
  },
  {
   "cell_type": "markdown",
   "metadata": {},
   "source": [
    "# Look at what is in the original catalogs"
   ]
  },
  {
   "cell_type": "code",
   "execution_count": 5,
   "metadata": {},
   "outputs": [],
   "source": [
    "catname = 'ediscs_v7.0/cl1018_catalog_v7.0.fits'\n",
    "cat = Table().read(catname)['ra', 'dec']"
   ]
  },
  {
   "cell_type": "code",
   "execution_count": 14,
   "metadata": {},
   "outputs": [
    {
     "name": "stdout",
     "output_type": "stream",
     "text": [
      "154.613480\n",
      "-12.463770\n"
     ]
    }
   ],
   "source": [
    "print(\"{:10f}\".format(cat[0]['ra']))\n",
    "print(\"{:10f}\".format(cat[0]['dec']))"
   ]
  },
  {
   "cell_type": "code",
   "execution_count": 23,
   "metadata": {},
   "outputs": [
    {
     "data": {
      "text/html": [
       "&lt;Column name=&apos;ra&apos; dtype=&apos;float64&apos; length=12681&gt;\n",
       "<table>\n",
       "<tr><td>154.6134796142578</td></tr>\n",
       "<tr><td>154.57318115234375</td></tr>\n",
       "<tr><td>154.6358642578125</td></tr>\n",
       "<tr><td>154.7159423828125</td></tr>\n",
       "<tr><td>154.54925537109375</td></tr>\n",
       "<tr><td>154.87060546875</td></tr>\n",
       "<tr><td>154.6569061279297</td></tr>\n",
       "<tr><td>154.8824920654297</td></tr>\n",
       "<tr><td>154.50497436523438</td></tr>\n",
       "<tr><td>154.80445861816406</td></tr>\n",
       "<tr><td>154.50022888183594</td></tr>\n",
       "<tr><td>154.5602569580078</td></tr>\n",
       "<tr><td>...</td></tr>\n",
       "<tr><td>154.8066864013672</td></tr>\n",
       "<tr><td>154.5328369140625</td></tr>\n",
       "<tr><td>154.5128631591797</td></tr>\n",
       "<tr><td>154.6746826171875</td></tr>\n",
       "<tr><td>154.66326904296875</td></tr>\n",
       "<tr><td>154.88278198242188</td></tr>\n",
       "<tr><td>154.5540771484375</td></tr>\n",
       "<tr><td>154.86607360839844</td></tr>\n",
       "<tr><td>154.88441467285156</td></tr>\n",
       "<tr><td>154.8003387451172</td></tr>\n",
       "<tr><td>154.7052459716797</td></tr>\n",
       "<tr><td>154.734619140625</td></tr>\n",
       "</table>"
      ],
      "text/plain": [
       "<Column name='ra' dtype='float64' length=12681>\n",
       " 154.6134796142578\n",
       "154.57318115234375\n",
       " 154.6358642578125\n",
       " 154.7159423828125\n",
       "154.54925537109375\n",
       "   154.87060546875\n",
       " 154.6569061279297\n",
       " 154.8824920654297\n",
       "154.50497436523438\n",
       "154.80445861816406\n",
       "154.50022888183594\n",
       " 154.5602569580078\n",
       "               ...\n",
       " 154.8066864013672\n",
       " 154.5328369140625\n",
       " 154.5128631591797\n",
       " 154.6746826171875\n",
       "154.66326904296875\n",
       "154.88278198242188\n",
       " 154.5540771484375\n",
       "154.86607360839844\n",
       "154.88441467285156\n",
       " 154.8003387451172\n",
       " 154.7052459716797\n",
       "  154.734619140625"
      ]
     },
     "execution_count": 23,
     "metadata": {},
     "output_type": "execute_result"
    }
   ],
   "source": [
    "cat['ra'].astype(float)"
   ]
  },
  {
   "cell_type": "code",
   "execution_count": 24,
   "metadata": {},
   "outputs": [
    {
     "name": "stdout",
     "output_type": "stream",
     "text": [
      "154.613480\n",
      "-12.463770\n"
     ]
    }
   ],
   "source": [
    "print(\"{:10f}\".format(cat[0]['ra'].astype(float)))\n",
    "print(\"{:10f}\".format(cat[0]['dec']))"
   ]
  },
  {
   "cell_type": "code",
   "execution_count": 25,
   "metadata": {},
   "outputs": [
    {
     "data": {
      "text/plain": [
       "154.6134796142578"
      ]
     },
     "execution_count": 25,
     "metadata": {},
     "output_type": "execute_result"
    }
   ],
   "source": [
    "cat[0]['ra'].astype(float)"
   ]
  },
  {
   "cell_type": "code",
   "execution_count": 31,
   "metadata": {},
   "outputs": [
    {
     "data": {
      "text/plain": [
       "0.036000000000000004"
      ]
     },
     "execution_count": 31,
     "metadata": {},
     "output_type": "execute_result"
    }
   ],
   "source": [
    "d = 0.00001\n",
    "d*3600"
   ]
  },
  {
   "cell_type": "code",
   "execution_count": null,
   "metadata": {},
   "outputs": [],
   "source": []
  }
 ],
 "metadata": {
  "kernelspec": {
   "display_name": "Python 3",
   "language": "python",
   "name": "python3"
  },
  "language_info": {
   "codemirror_mode": {
    "name": "ipython",
    "version": 3
   },
   "file_extension": ".py",
   "mimetype": "text/x-python",
   "name": "python",
   "nbconvert_exporter": "python",
   "pygments_lexer": "ipython3",
   "version": "3.6.4"
  }
 },
 "nbformat": 4,
 "nbformat_minor": 2
}
